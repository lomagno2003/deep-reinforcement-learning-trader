{
 "cells": [
  {
   "cell_type": "markdown",
   "metadata": {},
   "source": [
    "# 1. Install and Import Baseline Dependencies"
   ]
  },
  {
   "cell_type": "code",
   "execution_count": 1,
   "metadata": {
    "collapsed": true
   },
   "outputs": [
    {
     "name": "stdout",
     "output_type": "stream",
     "text": [
      "Requirement already satisfied: transformers in /Users/lomagnoc/Documents/Backup from Old Mac/Projects/deep-reinforcement-learning-trader/venv/lib/python3.9/site-packages (4.18.0)\r\n",
      "Requirement already satisfied: packaging>=20.0 in /Users/lomagnoc/Documents/Backup from Old Mac/Projects/deep-reinforcement-learning-trader/venv/lib/python3.9/site-packages (from transformers) (21.3)\r\n",
      "Requirement already satisfied: tqdm>=4.27 in /Users/lomagnoc/Documents/Backup from Old Mac/Projects/deep-reinforcement-learning-trader/venv/lib/python3.9/site-packages (from transformers) (4.64.0)\r\n",
      "Requirement already satisfied: numpy>=1.17 in /Users/lomagnoc/Documents/Backup from Old Mac/Projects/deep-reinforcement-learning-trader/venv/lib/python3.9/site-packages (from transformers) (1.22.3)\r\n",
      "Requirement already satisfied: filelock in /Users/lomagnoc/Documents/Backup from Old Mac/Projects/deep-reinforcement-learning-trader/venv/lib/python3.9/site-packages (from transformers) (3.6.0)\r\n",
      "Requirement already satisfied: sacremoses in /Users/lomagnoc/Documents/Backup from Old Mac/Projects/deep-reinforcement-learning-trader/venv/lib/python3.9/site-packages (from transformers) (0.0.49)\r\n",
      "Requirement already satisfied: pyyaml>=5.1 in /Users/lomagnoc/Documents/Backup from Old Mac/Projects/deep-reinforcement-learning-trader/venv/lib/python3.9/site-packages (from transformers) (6.0)\r\n",
      "Requirement already satisfied: tokenizers!=0.11.3,<0.13,>=0.11.1 in /Users/lomagnoc/Documents/Backup from Old Mac/Projects/deep-reinforcement-learning-trader/venv/lib/python3.9/site-packages (from transformers) (0.11.6)\r\n",
      "Requirement already satisfied: regex!=2019.12.17 in /Users/lomagnoc/Documents/Backup from Old Mac/Projects/deep-reinforcement-learning-trader/venv/lib/python3.9/site-packages (from transformers) (2022.3.15)\r\n",
      "Requirement already satisfied: huggingface-hub<1.0,>=0.1.0 in /Users/lomagnoc/Documents/Backup from Old Mac/Projects/deep-reinforcement-learning-trader/venv/lib/python3.9/site-packages (from transformers) (0.5.1)\r\n",
      "Requirement already satisfied: requests in /Users/lomagnoc/Documents/Backup from Old Mac/Projects/deep-reinforcement-learning-trader/venv/lib/python3.9/site-packages (from transformers) (2.27.1)\r\n",
      "Requirement already satisfied: typing-extensions>=3.7.4.3 in /Users/lomagnoc/Documents/Backup from Old Mac/Projects/deep-reinforcement-learning-trader/venv/lib/python3.9/site-packages (from huggingface-hub<1.0,>=0.1.0->transformers) (4.1.1)\r\n",
      "Requirement already satisfied: pyparsing!=3.0.5,>=2.0.2 in /Users/lomagnoc/Documents/Backup from Old Mac/Projects/deep-reinforcement-learning-trader/venv/lib/python3.9/site-packages (from packaging>=20.0->transformers) (3.0.7)\r\n",
      "Requirement already satisfied: urllib3<1.27,>=1.21.1 in /Users/lomagnoc/Documents/Backup from Old Mac/Projects/deep-reinforcement-learning-trader/venv/lib/python3.9/site-packages (from requests->transformers) (1.26.9)\r\n",
      "Requirement already satisfied: charset-normalizer~=2.0.0 in /Users/lomagnoc/Documents/Backup from Old Mac/Projects/deep-reinforcement-learning-trader/venv/lib/python3.9/site-packages (from requests->transformers) (2.0.12)\r\n",
      "Requirement already satisfied: certifi>=2017.4.17 in /Users/lomagnoc/Documents/Backup from Old Mac/Projects/deep-reinforcement-learning-trader/venv/lib/python3.9/site-packages (from requests->transformers) (2021.10.8)\r\n",
      "Requirement already satisfied: idna<4,>=2.5 in /Users/lomagnoc/Documents/Backup from Old Mac/Projects/deep-reinforcement-learning-trader/venv/lib/python3.9/site-packages (from requests->transformers) (3.3)\r\n",
      "Requirement already satisfied: click in /Users/lomagnoc/Documents/Backup from Old Mac/Projects/deep-reinforcement-learning-trader/venv/lib/python3.9/site-packages (from sacremoses->transformers) (8.1.2)\r\n",
      "Requirement already satisfied: six in /Users/lomagnoc/Documents/Backup from Old Mac/Projects/deep-reinforcement-learning-trader/venv/lib/python3.9/site-packages (from sacremoses->transformers) (1.16.0)\r\n",
      "Requirement already satisfied: joblib in /Users/lomagnoc/Documents/Backup from Old Mac/Projects/deep-reinforcement-learning-trader/venv/lib/python3.9/site-packages (from sacremoses->transformers) (1.1.0)\r\n"
     ]
    }
   ],
   "source": [
    "!pip install transformers"
   ]
  },
  {
   "cell_type": "code",
   "execution_count": 2,
   "metadata": {},
   "outputs": [
    {
     "name": "stderr",
     "output_type": "stream",
     "text": [
      "/Users/lomagnoc/Documents/Backup from Old Mac/Projects/deep-reinforcement-learning-trader/venv/lib/python3.9/site-packages/tensorflow/python/framework/dtypes.py:493: FutureWarning: Passing (type, 1) or '1type' as a synonym of type is deprecated; in a future version of numpy, it will be understood as (type, (1,)) / '(1,)type'.\n",
      "  _np_qint8 = np.dtype([(\"qint8\", np.int8, 1)])\n",
      "/Users/lomagnoc/Documents/Backup from Old Mac/Projects/deep-reinforcement-learning-trader/venv/lib/python3.9/site-packages/tensorflow/python/framework/dtypes.py:494: FutureWarning: Passing (type, 1) or '1type' as a synonym of type is deprecated; in a future version of numpy, it will be understood as (type, (1,)) / '(1,)type'.\n",
      "  _np_quint8 = np.dtype([(\"quint8\", np.uint8, 1)])\n",
      "/Users/lomagnoc/Documents/Backup from Old Mac/Projects/deep-reinforcement-learning-trader/venv/lib/python3.9/site-packages/tensorflow/python/framework/dtypes.py:495: FutureWarning: Passing (type, 1) or '1type' as a synonym of type is deprecated; in a future version of numpy, it will be understood as (type, (1,)) / '(1,)type'.\n",
      "  _np_qint16 = np.dtype([(\"qint16\", np.int16, 1)])\n",
      "/Users/lomagnoc/Documents/Backup from Old Mac/Projects/deep-reinforcement-learning-trader/venv/lib/python3.9/site-packages/tensorflow/python/framework/dtypes.py:496: FutureWarning: Passing (type, 1) or '1type' as a synonym of type is deprecated; in a future version of numpy, it will be understood as (type, (1,)) / '(1,)type'.\n",
      "  _np_quint16 = np.dtype([(\"quint16\", np.uint16, 1)])\n",
      "/Users/lomagnoc/Documents/Backup from Old Mac/Projects/deep-reinforcement-learning-trader/venv/lib/python3.9/site-packages/tensorflow/python/framework/dtypes.py:497: FutureWarning: Passing (type, 1) or '1type' as a synonym of type is deprecated; in a future version of numpy, it will be understood as (type, (1,)) / '(1,)type'.\n",
      "  _np_qint32 = np.dtype([(\"qint32\", np.int32, 1)])\n",
      "/Users/lomagnoc/Documents/Backup from Old Mac/Projects/deep-reinforcement-learning-trader/venv/lib/python3.9/site-packages/tensorflow/python/framework/dtypes.py:502: FutureWarning: Passing (type, 1) or '1type' as a synonym of type is deprecated; in a future version of numpy, it will be understood as (type, (1,)) / '(1,)type'.\n",
      "  np_resource = np.dtype([(\"resource\", np.ubyte, 1)])\n",
      "<frozen importlib._bootstrap>:228: RuntimeWarning: compiletime version 3.6 of module 'tensorflow.python.framework.fast_tensor_util' does not match runtime version 3.9\n",
      "<frozen importlib._bootstrap>:228: RuntimeWarning: builtins.type size changed, may indicate binary incompatibility. Expected 880, got 864\n"
     ]
    },
    {
     "ename": "KeyboardInterrupt",
     "evalue": "",
     "output_type": "error",
     "traceback": [
      "\u001B[0;31m---------------------------------------------------------------------------\u001B[0m",
      "\u001B[0;31mKeyboardInterrupt\u001B[0m                         Traceback (most recent call last)",
      "Input \u001B[0;32mIn [2]\u001B[0m, in \u001B[0;36m<cell line: 1>\u001B[0;34m()\u001B[0m\n\u001B[0;32m----> 1\u001B[0m \u001B[38;5;28;01mfrom\u001B[39;00m \u001B[38;5;21;01mtransformers\u001B[39;00m \u001B[38;5;28;01mimport\u001B[39;00m PegasusTokenizer, PegasusForConditionalGeneration\n\u001B[1;32m      2\u001B[0m \u001B[38;5;28;01mfrom\u001B[39;00m \u001B[38;5;21;01mbs4\u001B[39;00m \u001B[38;5;28;01mimport\u001B[39;00m BeautifulSoup\n\u001B[1;32m      3\u001B[0m \u001B[38;5;28;01mimport\u001B[39;00m \u001B[38;5;21;01mrequests\u001B[39;00m\n",
      "File \u001B[0;32m~/Documents/Backup from Old Mac/Projects/deep-reinforcement-learning-trader/venv/lib/python3.9/site-packages/transformers/__init__.py:30\u001B[0m, in \u001B[0;36m<module>\u001B[0;34m\u001B[0m\n\u001B[1;32m     27\u001B[0m \u001B[38;5;28;01mfrom\u001B[39;00m \u001B[38;5;21;01mtyping\u001B[39;00m \u001B[38;5;28;01mimport\u001B[39;00m TYPE_CHECKING\n\u001B[1;32m     29\u001B[0m \u001B[38;5;66;03m# Check the dependencies satisfy the minimal versions required.\u001B[39;00m\n\u001B[0;32m---> 30\u001B[0m \u001B[38;5;28;01mfrom\u001B[39;00m \u001B[38;5;21;01m.\u001B[39;00m \u001B[38;5;28;01mimport\u001B[39;00m dependency_versions_check\n\u001B[1;32m     31\u001B[0m \u001B[38;5;28;01mfrom\u001B[39;00m \u001B[38;5;21;01m.\u001B[39;00m\u001B[38;5;21;01mutils\u001B[39;00m \u001B[38;5;28;01mimport\u001B[39;00m (\n\u001B[1;32m     32\u001B[0m     _LazyModule,\n\u001B[1;32m     33\u001B[0m     is_flax_available,\n\u001B[0;32m   (...)\u001B[0m\n\u001B[1;32m     42\u001B[0m     logging,\n\u001B[1;32m     43\u001B[0m )\n\u001B[1;32m     46\u001B[0m logger \u001B[38;5;241m=\u001B[39m logging\u001B[38;5;241m.\u001B[39mget_logger(\u001B[38;5;18m__name__\u001B[39m)  \u001B[38;5;66;03m# pylint: disable=invalid-name\u001B[39;00m\n",
      "File \u001B[0;32m~/Documents/Backup from Old Mac/Projects/deep-reinforcement-learning-trader/venv/lib/python3.9/site-packages/transformers/dependency_versions_check.py:17\u001B[0m, in \u001B[0;36m<module>\u001B[0;34m\u001B[0m\n\u001B[1;32m     14\u001B[0m \u001B[38;5;28;01mimport\u001B[39;00m \u001B[38;5;21;01msys\u001B[39;00m\n\u001B[1;32m     16\u001B[0m \u001B[38;5;28;01mfrom\u001B[39;00m \u001B[38;5;21;01m.\u001B[39;00m\u001B[38;5;21;01mdependency_versions_table\u001B[39;00m \u001B[38;5;28;01mimport\u001B[39;00m deps\n\u001B[0;32m---> 17\u001B[0m \u001B[38;5;28;01mfrom\u001B[39;00m \u001B[38;5;21;01m.\u001B[39;00m\u001B[38;5;21;01mutils\u001B[39;00m\u001B[38;5;21;01m.\u001B[39;00m\u001B[38;5;21;01mversions\u001B[39;00m \u001B[38;5;28;01mimport\u001B[39;00m require_version, require_version_core\n\u001B[1;32m     20\u001B[0m \u001B[38;5;66;03m# define which module versions we always want to check at run time\u001B[39;00m\n\u001B[1;32m     21\u001B[0m \u001B[38;5;66;03m# (usually the ones defined in `install_requires` in setup.py)\u001B[39;00m\n\u001B[1;32m     22\u001B[0m \u001B[38;5;66;03m#\u001B[39;00m\n\u001B[1;32m     23\u001B[0m \u001B[38;5;66;03m# order specific notes:\u001B[39;00m\n\u001B[1;32m     24\u001B[0m \u001B[38;5;66;03m# - tqdm must be checked before tokenizers\u001B[39;00m\n\u001B[1;32m     26\u001B[0m pkgs_to_check_at_runtime \u001B[38;5;241m=\u001B[39m \u001B[38;5;124m\"\u001B[39m\u001B[38;5;124mpython tqdm regex sacremoses requests packaging filelock numpy tokenizers\u001B[39m\u001B[38;5;124m\"\u001B[39m\u001B[38;5;241m.\u001B[39msplit()\n",
      "File \u001B[0;32m~/Documents/Backup from Old Mac/Projects/deep-reinforcement-learning-trader/venv/lib/python3.9/site-packages/transformers/utils/__init__.py:45\u001B[0m, in \u001B[0;36m<module>\u001B[0;34m\u001B[0m\n\u001B[1;32m     25\u001B[0m \u001B[38;5;28;01mfrom\u001B[39;00m \u001B[38;5;21;01m.\u001B[39;00m\u001B[38;5;21;01mdoc\u001B[39;00m \u001B[38;5;28;01mimport\u001B[39;00m (\n\u001B[1;32m     26\u001B[0m     add_code_sample_docstrings,\n\u001B[1;32m     27\u001B[0m     add_end_docstrings,\n\u001B[0;32m   (...)\u001B[0m\n\u001B[1;32m     31\u001B[0m     replace_return_docstrings,\n\u001B[1;32m     32\u001B[0m )\n\u001B[1;32m     33\u001B[0m \u001B[38;5;28;01mfrom\u001B[39;00m \u001B[38;5;21;01m.\u001B[39;00m\u001B[38;5;21;01mgeneric\u001B[39;00m \u001B[38;5;28;01mimport\u001B[39;00m (\n\u001B[1;32m     34\u001B[0m     ContextManagers,\n\u001B[1;32m     35\u001B[0m     ExplicitEnum,\n\u001B[0;32m   (...)\u001B[0m\n\u001B[1;32m     43\u001B[0m     to_py_obj,\n\u001B[1;32m     44\u001B[0m )\n\u001B[0;32m---> 45\u001B[0m \u001B[38;5;28;01mfrom\u001B[39;00m \u001B[38;5;21;01m.\u001B[39;00m\u001B[38;5;21;01mhub\u001B[39;00m \u001B[38;5;28;01mimport\u001B[39;00m (\n\u001B[1;32m     46\u001B[0m     CLOUDFRONT_DISTRIB_PREFIX,\n\u001B[1;32m     47\u001B[0m     DISABLE_TELEMETRY,\n\u001B[1;32m     48\u001B[0m     HF_MODULES_CACHE,\n\u001B[1;32m     49\u001B[0m     HUGGINGFACE_CO_PREFIX,\n\u001B[1;32m     50\u001B[0m     HUGGINGFACE_CO_RESOLVE_ENDPOINT,\n\u001B[1;32m     51\u001B[0m     PYTORCH_PRETRAINED_BERT_CACHE,\n\u001B[1;32m     52\u001B[0m     PYTORCH_TRANSFORMERS_CACHE,\n\u001B[1;32m     53\u001B[0m     S3_BUCKET_PREFIX,\n\u001B[1;32m     54\u001B[0m     TRANSFORMERS_CACHE,\n\u001B[1;32m     55\u001B[0m     TRANSFORMERS_DYNAMIC_MODULE_NAME,\n\u001B[1;32m     56\u001B[0m     EntryNotFoundError,\n\u001B[1;32m     57\u001B[0m     PushToHubMixin,\n\u001B[1;32m     58\u001B[0m     RepositoryNotFoundError,\n\u001B[1;32m     59\u001B[0m     RevisionNotFoundError,\n\u001B[1;32m     60\u001B[0m     cached_path,\n\u001B[1;32m     61\u001B[0m     default_cache_path,\n\u001B[1;32m     62\u001B[0m     define_sagemaker_information,\n\u001B[1;32m     63\u001B[0m     filename_to_url,\n\u001B[1;32m     64\u001B[0m     get_cached_models,\n\u001B[1;32m     65\u001B[0m     get_file_from_repo,\n\u001B[1;32m     66\u001B[0m     get_from_cache,\n\u001B[1;32m     67\u001B[0m     get_full_repo_name,\n\u001B[1;32m     68\u001B[0m     get_list_of_files,\n\u001B[1;32m     69\u001B[0m     has_file,\n\u001B[1;32m     70\u001B[0m     hf_bucket_url,\n\u001B[1;32m     71\u001B[0m     http_get,\n\u001B[1;32m     72\u001B[0m     http_user_agent,\n\u001B[1;32m     73\u001B[0m     is_local_clone,\n\u001B[1;32m     74\u001B[0m     is_offline_mode,\n\u001B[1;32m     75\u001B[0m     is_remote_url,\n\u001B[1;32m     76\u001B[0m     url_to_filename,\n\u001B[1;32m     77\u001B[0m )\n\u001B[1;32m     78\u001B[0m \u001B[38;5;28;01mfrom\u001B[39;00m \u001B[38;5;21;01m.\u001B[39;00m\u001B[38;5;21;01mimport_utils\u001B[39;00m \u001B[38;5;28;01mimport\u001B[39;00m (\n\u001B[1;32m     79\u001B[0m     ENV_VARS_TRUE_AND_AUTO_VALUES,\n\u001B[1;32m     80\u001B[0m     ENV_VARS_TRUE_VALUES,\n\u001B[0;32m   (...)\u001B[0m\n\u001B[1;32m    135\u001B[0m     torch_version,\n\u001B[1;32m    136\u001B[0m )\n\u001B[1;32m    139\u001B[0m WEIGHTS_NAME \u001B[38;5;241m=\u001B[39m \u001B[38;5;124m\"\u001B[39m\u001B[38;5;124mpytorch_model.bin\u001B[39m\u001B[38;5;124m\"\u001B[39m\n",
      "File \u001B[0;32m~/Documents/Backup from Old Mac/Projects/deep-reinforcement-learning-trader/venv/lib/python3.9/site-packages/transformers/utils/hub.py:39\u001B[0m, in \u001B[0;36m<module>\u001B[0;34m\u001B[0m\n\u001B[1;32m     37\u001B[0m \u001B[38;5;28;01mimport\u001B[39;00m \u001B[38;5;21;01mrequests\u001B[39;00m\n\u001B[1;32m     38\u001B[0m \u001B[38;5;28;01mfrom\u001B[39;00m \u001B[38;5;21;01mfilelock\u001B[39;00m \u001B[38;5;28;01mimport\u001B[39;00m FileLock\n\u001B[0;32m---> 39\u001B[0m \u001B[38;5;28;01mfrom\u001B[39;00m \u001B[38;5;21;01mhuggingface_hub\u001B[39;00m \u001B[38;5;28;01mimport\u001B[39;00m HfFolder, Repository, create_repo, list_repo_files, whoami\n\u001B[1;32m     40\u001B[0m \u001B[38;5;28;01mfrom\u001B[39;00m \u001B[38;5;21;01mrequests\u001B[39;00m\u001B[38;5;21;01m.\u001B[39;00m\u001B[38;5;21;01mexceptions\u001B[39;00m \u001B[38;5;28;01mimport\u001B[39;00m HTTPError\n\u001B[1;32m     41\u001B[0m \u001B[38;5;28;01mfrom\u001B[39;00m \u001B[38;5;21;01mtransformers\u001B[39;00m\u001B[38;5;21;01m.\u001B[39;00m\u001B[38;5;21;01mutils\u001B[39;00m\u001B[38;5;21;01m.\u001B[39;00m\u001B[38;5;21;01mlogging\u001B[39;00m \u001B[38;5;28;01mimport\u001B[39;00m tqdm\n",
      "File \u001B[0;32m~/Documents/Backup from Old Mac/Projects/deep-reinforcement-learning-trader/venv/lib/python3.9/site-packages/huggingface_hub/__init__.py:63\u001B[0m, in \u001B[0;36m<module>\u001B[0;34m\u001B[0m\n\u001B[1;32m     61\u001B[0m \u001B[38;5;28;01mfrom\u001B[39;00m \u001B[38;5;21;01m.\u001B[39;00m\u001B[38;5;21;01mhub_mixin\u001B[39;00m \u001B[38;5;28;01mimport\u001B[39;00m ModelHubMixin, PyTorchModelHubMixin\n\u001B[1;32m     62\u001B[0m \u001B[38;5;28;01mfrom\u001B[39;00m \u001B[38;5;21;01m.\u001B[39;00m\u001B[38;5;21;01minference_api\u001B[39;00m \u001B[38;5;28;01mimport\u001B[39;00m InferenceApi\n\u001B[0;32m---> 63\u001B[0m \u001B[38;5;28;01mfrom\u001B[39;00m \u001B[38;5;21;01m.\u001B[39;00m\u001B[38;5;21;01mkeras_mixin\u001B[39;00m \u001B[38;5;28;01mimport\u001B[39;00m (\n\u001B[1;32m     64\u001B[0m     KerasModelHubMixin,\n\u001B[1;32m     65\u001B[0m     from_pretrained_keras,\n\u001B[1;32m     66\u001B[0m     push_to_hub_keras,\n\u001B[1;32m     67\u001B[0m     save_pretrained_keras,\n\u001B[1;32m     68\u001B[0m )\n\u001B[1;32m     69\u001B[0m \u001B[38;5;28;01mfrom\u001B[39;00m \u001B[38;5;21;01m.\u001B[39;00m\u001B[38;5;21;01mrepository\u001B[39;00m \u001B[38;5;28;01mimport\u001B[39;00m Repository\n\u001B[1;32m     70\u001B[0m \u001B[38;5;28;01mfrom\u001B[39;00m \u001B[38;5;21;01m.\u001B[39;00m\u001B[38;5;21;01msnapshot_download\u001B[39;00m \u001B[38;5;28;01mimport\u001B[39;00m snapshot_download\n",
      "File \u001B[0;32m~/Documents/Backup from Old Mac/Projects/deep-reinforcement-learning-trader/venv/lib/python3.9/site-packages/huggingface_hub/keras_mixin.py:24\u001B[0m, in \u001B[0;36m<module>\u001B[0;34m\u001B[0m\n\u001B[1;32m     21\u001B[0m logger \u001B[38;5;241m=\u001B[39m logging\u001B[38;5;241m.\u001B[39mget_logger(\u001B[38;5;18m__name__\u001B[39m)\n\u001B[1;32m     23\u001B[0m \u001B[38;5;28;01mif\u001B[39;00m is_tf_available():\n\u001B[0;32m---> 24\u001B[0m     \u001B[38;5;28;01mimport\u001B[39;00m \u001B[38;5;21;01mtensorflow\u001B[39;00m \u001B[38;5;28;01mas\u001B[39;00m \u001B[38;5;21;01mtf\u001B[39;00m\n\u001B[1;32m     27\u001B[0m \u001B[38;5;28;01mdef\u001B[39;00m \u001B[38;5;21m_extract_hyperparameters_from_keras\u001B[39m(model):\n\u001B[1;32m     28\u001B[0m     \u001B[38;5;28;01mif\u001B[39;00m model\u001B[38;5;241m.\u001B[39moptimizer \u001B[38;5;129;01mis\u001B[39;00m \u001B[38;5;129;01mnot\u001B[39;00m \u001B[38;5;28;01mNone\u001B[39;00m:\n",
      "File \u001B[0;32m~/Documents/Backup from Old Mac/Projects/deep-reinforcement-learning-trader/venv/lib/python3.9/site-packages/tensorflow/__init__.py:24\u001B[0m, in \u001B[0;36m<module>\u001B[0;34m\u001B[0m\n\u001B[1;32m     21\u001B[0m \u001B[38;5;28;01mfrom\u001B[39;00m \u001B[38;5;21;01m__future__\u001B[39;00m \u001B[38;5;28;01mimport\u001B[39;00m print_function\n\u001B[1;32m     23\u001B[0m \u001B[38;5;66;03m# pylint: disable=wildcard-import\u001B[39;00m\n\u001B[0;32m---> 24\u001B[0m \u001B[38;5;28;01mfrom\u001B[39;00m \u001B[38;5;21;01mtensorflow\u001B[39;00m\u001B[38;5;21;01m.\u001B[39;00m\u001B[38;5;21;01mpython\u001B[39;00m \u001B[38;5;28;01mimport\u001B[39;00m \u001B[38;5;241m*\u001B[39m\n\u001B[1;32m     25\u001B[0m \u001B[38;5;66;03m# pylint: enable=wildcard-import\u001B[39;00m\n\u001B[1;32m     27\u001B[0m \u001B[38;5;28;01mfrom\u001B[39;00m \u001B[38;5;21;01mtensorflow\u001B[39;00m\u001B[38;5;21;01m.\u001B[39;00m\u001B[38;5;21;01mpython\u001B[39;00m\u001B[38;5;21;01m.\u001B[39;00m\u001B[38;5;21;01mutil\u001B[39;00m\u001B[38;5;21;01m.\u001B[39;00m\u001B[38;5;21;01mlazy_loader\u001B[39;00m \u001B[38;5;28;01mimport\u001B[39;00m LazyLoader\n",
      "File \u001B[0;32m~/Documents/Backup from Old Mac/Projects/deep-reinforcement-learning-trader/venv/lib/python3.9/site-packages/tensorflow/python/__init__.py:82\u001B[0m, in \u001B[0;36m<module>\u001B[0;34m\u001B[0m\n\u001B[1;32m     80\u001B[0m \u001B[38;5;28;01mfrom\u001B[39;00m \u001B[38;5;21;01mtensorflow\u001B[39;00m\u001B[38;5;21;01m.\u001B[39;00m\u001B[38;5;21;01mpython\u001B[39;00m \u001B[38;5;28;01mimport\u001B[39;00m data\n\u001B[1;32m     81\u001B[0m \u001B[38;5;28;01mfrom\u001B[39;00m \u001B[38;5;21;01mtensorflow\u001B[39;00m\u001B[38;5;21;01m.\u001B[39;00m\u001B[38;5;21;01mpython\u001B[39;00m \u001B[38;5;28;01mimport\u001B[39;00m keras\n\u001B[0;32m---> 82\u001B[0m \u001B[38;5;28;01mfrom\u001B[39;00m \u001B[38;5;21;01mtensorflow\u001B[39;00m\u001B[38;5;21;01m.\u001B[39;00m\u001B[38;5;21;01mpython\u001B[39;00m\u001B[38;5;21;01m.\u001B[39;00m\u001B[38;5;21;01mestimator\u001B[39;00m \u001B[38;5;28;01mimport\u001B[39;00m estimator_lib \u001B[38;5;28;01mas\u001B[39;00m estimator\n\u001B[1;32m     83\u001B[0m \u001B[38;5;28;01mfrom\u001B[39;00m \u001B[38;5;21;01mtensorflow\u001B[39;00m\u001B[38;5;21;01m.\u001B[39;00m\u001B[38;5;21;01mpython\u001B[39;00m\u001B[38;5;21;01m.\u001B[39;00m\u001B[38;5;21;01mfeature_column\u001B[39;00m \u001B[38;5;28;01mimport\u001B[39;00m feature_column_lib \u001B[38;5;28;01mas\u001B[39;00m feature_column\n\u001B[1;32m     84\u001B[0m \u001B[38;5;28;01mfrom\u001B[39;00m \u001B[38;5;21;01mtensorflow\u001B[39;00m\u001B[38;5;21;01m.\u001B[39;00m\u001B[38;5;21;01mpython\u001B[39;00m\u001B[38;5;21;01m.\u001B[39;00m\u001B[38;5;21;01mlayers\u001B[39;00m \u001B[38;5;28;01mimport\u001B[39;00m layers\n",
      "File \u001B[0;32m~/Documents/Backup from Old Mac/Projects/deep-reinforcement-learning-trader/venv/lib/python3.9/site-packages/tensorflow/python/estimator/estimator_lib.py:37\u001B[0m, in \u001B[0;36m<module>\u001B[0;34m\u001B[0m\n\u001B[1;32m     35\u001B[0m \u001B[38;5;28;01mfrom\u001B[39;00m \u001B[38;5;21;01mtensorflow\u001B[39;00m\u001B[38;5;21;01m.\u001B[39;00m\u001B[38;5;21;01mpython\u001B[39;00m\u001B[38;5;21;01m.\u001B[39;00m\u001B[38;5;21;01mestimator\u001B[39;00m\u001B[38;5;21;01m.\u001B[39;00m\u001B[38;5;21;01mexporter\u001B[39;00m \u001B[38;5;28;01mimport\u001B[39;00m FinalExporter\n\u001B[1;32m     36\u001B[0m \u001B[38;5;28;01mfrom\u001B[39;00m \u001B[38;5;21;01mtensorflow\u001B[39;00m\u001B[38;5;21;01m.\u001B[39;00m\u001B[38;5;21;01mpython\u001B[39;00m\u001B[38;5;21;01m.\u001B[39;00m\u001B[38;5;21;01mestimator\u001B[39;00m\u001B[38;5;21;01m.\u001B[39;00m\u001B[38;5;21;01mexporter\u001B[39;00m \u001B[38;5;28;01mimport\u001B[39;00m LatestExporter\n\u001B[0;32m---> 37\u001B[0m \u001B[38;5;28;01mfrom\u001B[39;00m \u001B[38;5;21;01mtensorflow\u001B[39;00m\u001B[38;5;21;01m.\u001B[39;00m\u001B[38;5;21;01mpython\u001B[39;00m\u001B[38;5;21;01m.\u001B[39;00m\u001B[38;5;21;01mestimator\u001B[39;00m\u001B[38;5;21;01m.\u001B[39;00m\u001B[38;5;21;01minputs\u001B[39;00m \u001B[38;5;28;01mimport\u001B[39;00m inputs\n\u001B[1;32m     38\u001B[0m \u001B[38;5;28;01mfrom\u001B[39;00m \u001B[38;5;21;01mtensorflow\u001B[39;00m\u001B[38;5;21;01m.\u001B[39;00m\u001B[38;5;21;01mpython\u001B[39;00m\u001B[38;5;21;01m.\u001B[39;00m\u001B[38;5;21;01mestimator\u001B[39;00m\u001B[38;5;21;01m.\u001B[39;00m\u001B[38;5;21;01mmodel_fn\u001B[39;00m \u001B[38;5;28;01mimport\u001B[39;00m EstimatorSpec\n\u001B[1;32m     39\u001B[0m \u001B[38;5;28;01mfrom\u001B[39;00m \u001B[38;5;21;01mtensorflow\u001B[39;00m\u001B[38;5;21;01m.\u001B[39;00m\u001B[38;5;21;01mpython\u001B[39;00m\u001B[38;5;21;01m.\u001B[39;00m\u001B[38;5;21;01mestimator\u001B[39;00m\u001B[38;5;21;01m.\u001B[39;00m\u001B[38;5;21;01mmodel_fn\u001B[39;00m \u001B[38;5;28;01mimport\u001B[39;00m ModeKeys\n",
      "File \u001B[0;32m~/Documents/Backup from Old Mac/Projects/deep-reinforcement-learning-trader/venv/lib/python3.9/site-packages/tensorflow/python/estimator/inputs/inputs.py:22\u001B[0m, in \u001B[0;36m<module>\u001B[0;34m\u001B[0m\n\u001B[1;32m     19\u001B[0m \u001B[38;5;28;01mfrom\u001B[39;00m \u001B[38;5;21;01m__future__\u001B[39;00m \u001B[38;5;28;01mimport\u001B[39;00m print_function\n\u001B[1;32m     21\u001B[0m \u001B[38;5;66;03m# pylint: disable=unused-import,line-too-long\u001B[39;00m\n\u001B[0;32m---> 22\u001B[0m \u001B[38;5;28;01mfrom\u001B[39;00m \u001B[38;5;21;01mtensorflow\u001B[39;00m\u001B[38;5;21;01m.\u001B[39;00m\u001B[38;5;21;01mpython\u001B[39;00m\u001B[38;5;21;01m.\u001B[39;00m\u001B[38;5;21;01mestimator\u001B[39;00m\u001B[38;5;21;01m.\u001B[39;00m\u001B[38;5;21;01minputs\u001B[39;00m\u001B[38;5;21;01m.\u001B[39;00m\u001B[38;5;21;01mnumpy_io\u001B[39;00m \u001B[38;5;28;01mimport\u001B[39;00m numpy_input_fn\n\u001B[1;32m     23\u001B[0m \u001B[38;5;28;01mfrom\u001B[39;00m \u001B[38;5;21;01mtensorflow\u001B[39;00m\u001B[38;5;21;01m.\u001B[39;00m\u001B[38;5;21;01mpython\u001B[39;00m\u001B[38;5;21;01m.\u001B[39;00m\u001B[38;5;21;01mestimator\u001B[39;00m\u001B[38;5;21;01m.\u001B[39;00m\u001B[38;5;21;01minputs\u001B[39;00m\u001B[38;5;21;01m.\u001B[39;00m\u001B[38;5;21;01mpandas_io\u001B[39;00m \u001B[38;5;28;01mimport\u001B[39;00m pandas_input_fn\n\u001B[1;32m     25\u001B[0m \u001B[38;5;28;01mfrom\u001B[39;00m \u001B[38;5;21;01mtensorflow\u001B[39;00m\u001B[38;5;21;01m.\u001B[39;00m\u001B[38;5;21;01mpython\u001B[39;00m\u001B[38;5;21;01m.\u001B[39;00m\u001B[38;5;21;01mutil\u001B[39;00m\u001B[38;5;21;01m.\u001B[39;00m\u001B[38;5;21;01mall_util\u001B[39;00m \u001B[38;5;28;01mimport\u001B[39;00m remove_undocumented\n",
      "File \u001B[0;32m~/Documents/Backup from Old Mac/Projects/deep-reinforcement-learning-trader/venv/lib/python3.9/site-packages/tensorflow/python/estimator/inputs/numpy_io.py:23\u001B[0m, in \u001B[0;36m<module>\u001B[0;34m\u001B[0m\n\u001B[1;32m     21\u001B[0m \u001B[38;5;28;01mimport\u001B[39;00m \u001B[38;5;21;01mcollections\u001B[39;00m\n\u001B[1;32m     22\u001B[0m \u001B[38;5;28;01mfrom\u001B[39;00m \u001B[38;5;21;01msix\u001B[39;00m \u001B[38;5;28;01mimport\u001B[39;00m string_types\n\u001B[0;32m---> 23\u001B[0m \u001B[38;5;28;01mfrom\u001B[39;00m \u001B[38;5;21;01mtensorflow\u001B[39;00m\u001B[38;5;21;01m.\u001B[39;00m\u001B[38;5;21;01mpython\u001B[39;00m\u001B[38;5;21;01m.\u001B[39;00m\u001B[38;5;21;01mestimator\u001B[39;00m\u001B[38;5;21;01m.\u001B[39;00m\u001B[38;5;21;01minputs\u001B[39;00m\u001B[38;5;21;01m.\u001B[39;00m\u001B[38;5;21;01mqueues\u001B[39;00m \u001B[38;5;28;01mimport\u001B[39;00m feeding_functions\n\u001B[1;32m     25\u001B[0m \u001B[38;5;66;03m# Key name to pack the target into dict of `features`. See\u001B[39;00m\n\u001B[1;32m     26\u001B[0m \u001B[38;5;66;03m# `_get_unique_target_key` for details.\u001B[39;00m\n\u001B[1;32m     27\u001B[0m _TARGET_KEY \u001B[38;5;241m=\u001B[39m \u001B[38;5;124m'\u001B[39m\u001B[38;5;124m__target_key__\u001B[39m\u001B[38;5;124m'\u001B[39m\n",
      "File \u001B[0;32m~/Documents/Backup from Old Mac/Projects/deep-reinforcement-learning-trader/venv/lib/python3.9/site-packages/tensorflow/python/estimator/inputs/queues/feeding_functions.py:40\u001B[0m, in \u001B[0;36m<module>\u001B[0;34m\u001B[0m\n\u001B[1;32m     36\u001B[0m \u001B[38;5;28;01mfrom\u001B[39;00m \u001B[38;5;21;01mtensorflow\u001B[39;00m\u001B[38;5;21;01m.\u001B[39;00m\u001B[38;5;21;01mpython\u001B[39;00m\u001B[38;5;21;01m.\u001B[39;00m\u001B[38;5;21;01mtraining\u001B[39;00m \u001B[38;5;28;01mimport\u001B[39;00m queue_runner\n\u001B[1;32m     38\u001B[0m \u001B[38;5;28;01mtry\u001B[39;00m:\n\u001B[1;32m     39\u001B[0m   \u001B[38;5;66;03m# pylint: disable=g-import-not-at-top\u001B[39;00m\n\u001B[0;32m---> 40\u001B[0m   \u001B[38;5;28;01mimport\u001B[39;00m \u001B[38;5;21;01mpandas\u001B[39;00m \u001B[38;5;28;01mas\u001B[39;00m \u001B[38;5;21;01mpd\u001B[39;00m\n\u001B[1;32m     41\u001B[0m   HAS_PANDAS \u001B[38;5;241m=\u001B[39m \u001B[38;5;28;01mTrue\u001B[39;00m\n\u001B[1;32m     42\u001B[0m \u001B[38;5;28;01mexcept\u001B[39;00m \u001B[38;5;167;01mIOError\u001B[39;00m:\n\u001B[1;32m     43\u001B[0m   \u001B[38;5;66;03m# Pandas writes a temporary file during import. If it fails, don't use pandas.\u001B[39;00m\n",
      "File \u001B[0;32m~/Documents/Backup from Old Mac/Projects/deep-reinforcement-learning-trader/venv/lib/python3.9/site-packages/pandas/__init__.py:48\u001B[0m, in \u001B[0;36m<module>\u001B[0;34m\u001B[0m\n\u001B[1;32m     45\u001B[0m \u001B[38;5;66;03m# let init-time option registration happen\u001B[39;00m\n\u001B[1;32m     46\u001B[0m \u001B[38;5;28;01mimport\u001B[39;00m \u001B[38;5;21;01mpandas\u001B[39;00m\u001B[38;5;21;01m.\u001B[39;00m\u001B[38;5;21;01mcore\u001B[39;00m\u001B[38;5;21;01m.\u001B[39;00m\u001B[38;5;21;01mconfig_init\u001B[39;00m\n\u001B[0;32m---> 48\u001B[0m \u001B[38;5;28;01mfrom\u001B[39;00m \u001B[38;5;21;01mpandas\u001B[39;00m\u001B[38;5;21;01m.\u001B[39;00m\u001B[38;5;21;01mcore\u001B[39;00m\u001B[38;5;21;01m.\u001B[39;00m\u001B[38;5;21;01mapi\u001B[39;00m \u001B[38;5;28;01mimport\u001B[39;00m (\n\u001B[1;32m     49\u001B[0m     \u001B[38;5;66;03m# dtype\u001B[39;00m\n\u001B[1;32m     50\u001B[0m     Int8Dtype,\n\u001B[1;32m     51\u001B[0m     Int16Dtype,\n\u001B[1;32m     52\u001B[0m     Int32Dtype,\n\u001B[1;32m     53\u001B[0m     Int64Dtype,\n\u001B[1;32m     54\u001B[0m     UInt8Dtype,\n\u001B[1;32m     55\u001B[0m     UInt16Dtype,\n\u001B[1;32m     56\u001B[0m     UInt32Dtype,\n\u001B[1;32m     57\u001B[0m     UInt64Dtype,\n\u001B[1;32m     58\u001B[0m     Float32Dtype,\n\u001B[1;32m     59\u001B[0m     Float64Dtype,\n\u001B[1;32m     60\u001B[0m     CategoricalDtype,\n\u001B[1;32m     61\u001B[0m     PeriodDtype,\n\u001B[1;32m     62\u001B[0m     IntervalDtype,\n\u001B[1;32m     63\u001B[0m     DatetimeTZDtype,\n\u001B[1;32m     64\u001B[0m     StringDtype,\n\u001B[1;32m     65\u001B[0m     BooleanDtype,\n\u001B[1;32m     66\u001B[0m     \u001B[38;5;66;03m# missing\u001B[39;00m\n\u001B[1;32m     67\u001B[0m     NA,\n\u001B[1;32m     68\u001B[0m     isna,\n\u001B[1;32m     69\u001B[0m     isnull,\n\u001B[1;32m     70\u001B[0m     notna,\n\u001B[1;32m     71\u001B[0m     notnull,\n\u001B[1;32m     72\u001B[0m     \u001B[38;5;66;03m# indexes\u001B[39;00m\n\u001B[1;32m     73\u001B[0m     Index,\n\u001B[1;32m     74\u001B[0m     CategoricalIndex,\n\u001B[1;32m     75\u001B[0m     RangeIndex,\n\u001B[1;32m     76\u001B[0m     MultiIndex,\n\u001B[1;32m     77\u001B[0m     IntervalIndex,\n\u001B[1;32m     78\u001B[0m     TimedeltaIndex,\n\u001B[1;32m     79\u001B[0m     DatetimeIndex,\n\u001B[1;32m     80\u001B[0m     PeriodIndex,\n\u001B[1;32m     81\u001B[0m     IndexSlice,\n\u001B[1;32m     82\u001B[0m     \u001B[38;5;66;03m# tseries\u001B[39;00m\n\u001B[1;32m     83\u001B[0m     NaT,\n\u001B[1;32m     84\u001B[0m     Period,\n\u001B[1;32m     85\u001B[0m     period_range,\n\u001B[1;32m     86\u001B[0m     Timedelta,\n\u001B[1;32m     87\u001B[0m     timedelta_range,\n\u001B[1;32m     88\u001B[0m     Timestamp,\n\u001B[1;32m     89\u001B[0m     date_range,\n\u001B[1;32m     90\u001B[0m     bdate_range,\n\u001B[1;32m     91\u001B[0m     Interval,\n\u001B[1;32m     92\u001B[0m     interval_range,\n\u001B[1;32m     93\u001B[0m     DateOffset,\n\u001B[1;32m     94\u001B[0m     \u001B[38;5;66;03m# conversion\u001B[39;00m\n\u001B[1;32m     95\u001B[0m     to_numeric,\n\u001B[1;32m     96\u001B[0m     to_datetime,\n\u001B[1;32m     97\u001B[0m     to_timedelta,\n\u001B[1;32m     98\u001B[0m     \u001B[38;5;66;03m# misc\u001B[39;00m\n\u001B[1;32m     99\u001B[0m     Flags,\n\u001B[1;32m    100\u001B[0m     Grouper,\n\u001B[1;32m    101\u001B[0m     factorize,\n\u001B[1;32m    102\u001B[0m     unique,\n\u001B[1;32m    103\u001B[0m     value_counts,\n\u001B[1;32m    104\u001B[0m     NamedAgg,\n\u001B[1;32m    105\u001B[0m     array,\n\u001B[1;32m    106\u001B[0m     Categorical,\n\u001B[1;32m    107\u001B[0m     set_eng_float_format,\n\u001B[1;32m    108\u001B[0m     Series,\n\u001B[1;32m    109\u001B[0m     DataFrame,\n\u001B[1;32m    110\u001B[0m )\n\u001B[1;32m    112\u001B[0m \u001B[38;5;28;01mfrom\u001B[39;00m \u001B[38;5;21;01mpandas\u001B[39;00m\u001B[38;5;21;01m.\u001B[39;00m\u001B[38;5;21;01mcore\u001B[39;00m\u001B[38;5;21;01m.\u001B[39;00m\u001B[38;5;21;01marrays\u001B[39;00m\u001B[38;5;21;01m.\u001B[39;00m\u001B[38;5;21;01msparse\u001B[39;00m \u001B[38;5;28;01mimport\u001B[39;00m SparseDtype\n\u001B[1;32m    114\u001B[0m \u001B[38;5;28;01mfrom\u001B[39;00m \u001B[38;5;21;01mpandas\u001B[39;00m\u001B[38;5;21;01m.\u001B[39;00m\u001B[38;5;21;01mtseries\u001B[39;00m\u001B[38;5;21;01m.\u001B[39;00m\u001B[38;5;21;01mapi\u001B[39;00m \u001B[38;5;28;01mimport\u001B[39;00m infer_freq\n",
      "File \u001B[0;32m~/Documents/Backup from Old Mac/Projects/deep-reinforcement-learning-trader/venv/lib/python3.9/site-packages/pandas/core/api.py:48\u001B[0m, in \u001B[0;36m<module>\u001B[0;34m\u001B[0m\n\u001B[1;32m     46\u001B[0m \u001B[38;5;28;01mfrom\u001B[39;00m \u001B[38;5;21;01mpandas\u001B[39;00m\u001B[38;5;21;01m.\u001B[39;00m\u001B[38;5;21;01mcore\u001B[39;00m\u001B[38;5;21;01m.\u001B[39;00m\u001B[38;5;21;01mconstruction\u001B[39;00m \u001B[38;5;28;01mimport\u001B[39;00m array\n\u001B[1;32m     47\u001B[0m \u001B[38;5;28;01mfrom\u001B[39;00m \u001B[38;5;21;01mpandas\u001B[39;00m\u001B[38;5;21;01m.\u001B[39;00m\u001B[38;5;21;01mcore\u001B[39;00m\u001B[38;5;21;01m.\u001B[39;00m\u001B[38;5;21;01mflags\u001B[39;00m \u001B[38;5;28;01mimport\u001B[39;00m Flags\n\u001B[0;32m---> 48\u001B[0m \u001B[38;5;28;01mfrom\u001B[39;00m \u001B[38;5;21;01mpandas\u001B[39;00m\u001B[38;5;21;01m.\u001B[39;00m\u001B[38;5;21;01mcore\u001B[39;00m\u001B[38;5;21;01m.\u001B[39;00m\u001B[38;5;21;01mgroupby\u001B[39;00m \u001B[38;5;28;01mimport\u001B[39;00m (\n\u001B[1;32m     49\u001B[0m     Grouper,\n\u001B[1;32m     50\u001B[0m     NamedAgg,\n\u001B[1;32m     51\u001B[0m )\n\u001B[1;32m     52\u001B[0m \u001B[38;5;28;01mfrom\u001B[39;00m \u001B[38;5;21;01mpandas\u001B[39;00m\u001B[38;5;21;01m.\u001B[39;00m\u001B[38;5;21;01mcore\u001B[39;00m\u001B[38;5;21;01m.\u001B[39;00m\u001B[38;5;21;01mindexes\u001B[39;00m\u001B[38;5;21;01m.\u001B[39;00m\u001B[38;5;21;01mapi\u001B[39;00m \u001B[38;5;28;01mimport\u001B[39;00m (\n\u001B[1;32m     53\u001B[0m     CategoricalIndex,\n\u001B[1;32m     54\u001B[0m     DatetimeIndex,\n\u001B[0;32m   (...)\u001B[0m\n\u001B[1;32m     64\u001B[0m     UInt64Index,\n\u001B[1;32m     65\u001B[0m )\n\u001B[1;32m     66\u001B[0m \u001B[38;5;28;01mfrom\u001B[39;00m \u001B[38;5;21;01mpandas\u001B[39;00m\u001B[38;5;21;01m.\u001B[39;00m\u001B[38;5;21;01mcore\u001B[39;00m\u001B[38;5;21;01m.\u001B[39;00m\u001B[38;5;21;01mindexes\u001B[39;00m\u001B[38;5;21;01m.\u001B[39;00m\u001B[38;5;21;01mdatetimes\u001B[39;00m \u001B[38;5;28;01mimport\u001B[39;00m (\n\u001B[1;32m     67\u001B[0m     bdate_range,\n\u001B[1;32m     68\u001B[0m     date_range,\n\u001B[1;32m     69\u001B[0m )\n",
      "File \u001B[0;32m~/Documents/Backup from Old Mac/Projects/deep-reinforcement-learning-trader/venv/lib/python3.9/site-packages/pandas/core/groupby/__init__.py:1\u001B[0m, in \u001B[0;36m<module>\u001B[0;34m\u001B[0m\n\u001B[0;32m----> 1\u001B[0m \u001B[38;5;28;01mfrom\u001B[39;00m \u001B[38;5;21;01mpandas\u001B[39;00m\u001B[38;5;21;01m.\u001B[39;00m\u001B[38;5;21;01mcore\u001B[39;00m\u001B[38;5;21;01m.\u001B[39;00m\u001B[38;5;21;01mgroupby\u001B[39;00m\u001B[38;5;21;01m.\u001B[39;00m\u001B[38;5;21;01mgeneric\u001B[39;00m \u001B[38;5;28;01mimport\u001B[39;00m (\n\u001B[1;32m      2\u001B[0m     DataFrameGroupBy,\n\u001B[1;32m      3\u001B[0m     NamedAgg,\n\u001B[1;32m      4\u001B[0m     SeriesGroupBy,\n\u001B[1;32m      5\u001B[0m )\n\u001B[1;32m      6\u001B[0m \u001B[38;5;28;01mfrom\u001B[39;00m \u001B[38;5;21;01mpandas\u001B[39;00m\u001B[38;5;21;01m.\u001B[39;00m\u001B[38;5;21;01mcore\u001B[39;00m\u001B[38;5;21;01m.\u001B[39;00m\u001B[38;5;21;01mgroupby\u001B[39;00m\u001B[38;5;21;01m.\u001B[39;00m\u001B[38;5;21;01mgroupby\u001B[39;00m \u001B[38;5;28;01mimport\u001B[39;00m GroupBy\n\u001B[1;32m      7\u001B[0m \u001B[38;5;28;01mfrom\u001B[39;00m \u001B[38;5;21;01mpandas\u001B[39;00m\u001B[38;5;21;01m.\u001B[39;00m\u001B[38;5;21;01mcore\u001B[39;00m\u001B[38;5;21;01m.\u001B[39;00m\u001B[38;5;21;01mgroupby\u001B[39;00m\u001B[38;5;21;01m.\u001B[39;00m\u001B[38;5;21;01mgrouper\u001B[39;00m \u001B[38;5;28;01mimport\u001B[39;00m Grouper\n",
      "File \u001B[0;32m~/Documents/Backup from Old Mac/Projects/deep-reinforcement-learning-trader/venv/lib/python3.9/site-packages/pandas/core/groupby/generic.py:73\u001B[0m, in \u001B[0;36m<module>\u001B[0;34m\u001B[0m\n\u001B[1;32m     71\u001B[0m \u001B[38;5;28;01mfrom\u001B[39;00m \u001B[38;5;21;01mpandas\u001B[39;00m\u001B[38;5;21;01m.\u001B[39;00m\u001B[38;5;21;01mcore\u001B[39;00m\u001B[38;5;21;01m.\u001B[39;00m\u001B[38;5;21;01mgeneric\u001B[39;00m \u001B[38;5;28;01mimport\u001B[39;00m NDFrame\n\u001B[1;32m     72\u001B[0m \u001B[38;5;28;01mfrom\u001B[39;00m \u001B[38;5;21;01mpandas\u001B[39;00m\u001B[38;5;21;01m.\u001B[39;00m\u001B[38;5;21;01mcore\u001B[39;00m\u001B[38;5;21;01m.\u001B[39;00m\u001B[38;5;21;01mgroupby\u001B[39;00m \u001B[38;5;28;01mimport\u001B[39;00m base\n\u001B[0;32m---> 73\u001B[0m \u001B[38;5;28;01mfrom\u001B[39;00m \u001B[38;5;21;01mpandas\u001B[39;00m\u001B[38;5;21;01m.\u001B[39;00m\u001B[38;5;21;01mcore\u001B[39;00m\u001B[38;5;21;01m.\u001B[39;00m\u001B[38;5;21;01mgroupby\u001B[39;00m\u001B[38;5;21;01m.\u001B[39;00m\u001B[38;5;21;01mgroupby\u001B[39;00m \u001B[38;5;28;01mimport\u001B[39;00m (\n\u001B[1;32m     74\u001B[0m     GroupBy,\n\u001B[1;32m     75\u001B[0m     _agg_template,\n\u001B[1;32m     76\u001B[0m     _apply_docs,\n\u001B[1;32m     77\u001B[0m     _transform_template,\n\u001B[1;32m     78\u001B[0m     warn_dropping_nuisance_columns_deprecated,\n\u001B[1;32m     79\u001B[0m )\n\u001B[1;32m     80\u001B[0m \u001B[38;5;28;01mfrom\u001B[39;00m \u001B[38;5;21;01mpandas\u001B[39;00m\u001B[38;5;21;01m.\u001B[39;00m\u001B[38;5;21;01mcore\u001B[39;00m\u001B[38;5;21;01m.\u001B[39;00m\u001B[38;5;21;01mgroupby\u001B[39;00m\u001B[38;5;21;01m.\u001B[39;00m\u001B[38;5;21;01mgrouper\u001B[39;00m \u001B[38;5;28;01mimport\u001B[39;00m get_grouper\n\u001B[1;32m     81\u001B[0m \u001B[38;5;28;01mfrom\u001B[39;00m \u001B[38;5;21;01mpandas\u001B[39;00m\u001B[38;5;21;01m.\u001B[39;00m\u001B[38;5;21;01mcore\u001B[39;00m\u001B[38;5;21;01m.\u001B[39;00m\u001B[38;5;21;01mindexes\u001B[39;00m\u001B[38;5;21;01m.\u001B[39;00m\u001B[38;5;21;01mapi\u001B[39;00m \u001B[38;5;28;01mimport\u001B[39;00m (\n\u001B[1;32m     82\u001B[0m     Index,\n\u001B[1;32m     83\u001B[0m     MultiIndex,\n\u001B[1;32m     84\u001B[0m     all_indexes_same,\n\u001B[1;32m     85\u001B[0m )\n",
      "File \u001B[0;32m~/Documents/Backup from Old Mac/Projects/deep-reinforcement-learning-trader/venv/lib/python3.9/site-packages/pandas/core/groupby/groupby.py:44\u001B[0m, in \u001B[0;36m<module>\u001B[0;34m\u001B[0m\n\u001B[1;32m     38\u001B[0m \u001B[38;5;28;01mfrom\u001B[39;00m \u001B[38;5;21;01mpandas\u001B[39;00m\u001B[38;5;21;01m.\u001B[39;00m\u001B[38;5;21;01m_config\u001B[39;00m\u001B[38;5;21;01m.\u001B[39;00m\u001B[38;5;21;01mconfig\u001B[39;00m \u001B[38;5;28;01mimport\u001B[39;00m option_context\n\u001B[1;32m     40\u001B[0m \u001B[38;5;28;01mfrom\u001B[39;00m \u001B[38;5;21;01mpandas\u001B[39;00m\u001B[38;5;21;01m.\u001B[39;00m\u001B[38;5;21;01m_libs\u001B[39;00m \u001B[38;5;28;01mimport\u001B[39;00m (\n\u001B[1;32m     41\u001B[0m     Timestamp,\n\u001B[1;32m     42\u001B[0m     lib,\n\u001B[1;32m     43\u001B[0m )\n\u001B[0;32m---> 44\u001B[0m \u001B[38;5;28;01mimport\u001B[39;00m \u001B[38;5;21;01mpandas\u001B[39;00m\u001B[38;5;21;01m.\u001B[39;00m\u001B[38;5;21;01m_libs\u001B[39;00m\u001B[38;5;21;01m.\u001B[39;00m\u001B[38;5;21;01mgroupby\u001B[39;00m \u001B[38;5;28;01mas\u001B[39;00m \u001B[38;5;21;01mlibgroupby\u001B[39;00m\n\u001B[1;32m     45\u001B[0m \u001B[38;5;28;01mfrom\u001B[39;00m \u001B[38;5;21;01mpandas\u001B[39;00m\u001B[38;5;21;01m.\u001B[39;00m\u001B[38;5;21;01m_typing\u001B[39;00m \u001B[38;5;28;01mimport\u001B[39;00m (\n\u001B[1;32m     46\u001B[0m     ArrayLike,\n\u001B[1;32m     47\u001B[0m     IndexLabel,\n\u001B[0;32m   (...)\u001B[0m\n\u001B[1;32m     53\u001B[0m     npt,\n\u001B[1;32m     54\u001B[0m )\n\u001B[1;32m     55\u001B[0m \u001B[38;5;28;01mfrom\u001B[39;00m \u001B[38;5;21;01mpandas\u001B[39;00m\u001B[38;5;21;01m.\u001B[39;00m\u001B[38;5;21;01mcompat\u001B[39;00m\u001B[38;5;21;01m.\u001B[39;00m\u001B[38;5;21;01mnumpy\u001B[39;00m \u001B[38;5;28;01mimport\u001B[39;00m function \u001B[38;5;28;01mas\u001B[39;00m nv\n",
      "File \u001B[0;32m~/Documents/Backup from Old Mac/Projects/deep-reinforcement-learning-trader/venv/lib/python3.9/site-packages/pandas/_libs/groupby.pyx:1\u001B[0m, in \u001B[0;36minit pandas._libs.groupby\u001B[0;34m()\u001B[0m\n",
      "File \u001B[0;32m<frozen importlib._bootstrap>:203\u001B[0m, in \u001B[0;36m_lock_unlock_module\u001B[0;34m(name)\u001B[0m\n",
      "\u001B[0;31mKeyboardInterrupt\u001B[0m: "
     ]
    }
   ],
   "source": [
    "from transformers import PegasusTokenizer, PegasusForConditionalGeneration\n",
    "from bs4 import BeautifulSoup\n",
    "import requests"
   ]
  },
  {
   "cell_type": "markdown",
   "metadata": {},
   "source": [
    "# 2. Setup Summarization Model"
   ]
  },
  {
   "cell_type": "code",
   "execution_count": null,
   "metadata": {},
   "outputs": [],
   "source": [
    "model_name = \"human-centered-summarization/financial-summarization-pegasus\"\n",
    "tokenizer = PegasusTokenizer.from_pretrained(model_name)\n",
    "model = PegasusForConditionalGeneration.from_pretrained(model_name)"
   ]
  },
  {
   "cell_type": "markdown",
   "metadata": {},
   "source": [
    "# 3. Summarize a Single Article"
   ]
  },
  {
   "cell_type": "code",
   "execution_count": null,
   "metadata": {},
   "outputs": [],
   "source": [
    "url = \"https://au.finance.yahoo.com/news/china-restricting-tesla-use-uncovers-a-significant-challenge-for-elon-musk-expert-161921664.html\"\n",
    "r = requests.get(url)\n",
    "soup = BeautifulSoup(r.text, 'html.parser')\n",
    "paragraphs = soup.find_all('p')"
   ]
  },
  {
   "cell_type": "code",
   "execution_count": null,
   "metadata": {},
   "outputs": [],
   "source": [
    "paragraphs[0].text"
   ]
  },
  {
   "cell_type": "code",
   "execution_count": null,
   "metadata": {},
   "outputs": [],
   "source": [
    "text = [paragraph.text for paragraph in paragraphs]\n",
    "words = ' '.join(text).split(' ')[:400]\n",
    "ARTICLE = ' '.join(words)"
   ]
  },
  {
   "cell_type": "code",
   "execution_count": null,
   "metadata": {},
   "outputs": [],
   "source": [
    "ARTICLE"
   ]
  },
  {
   "cell_type": "code",
   "execution_count": null,
   "metadata": {},
   "outputs": [],
   "source": [
    "input_ids = tokenizer.encode(ARTICLE, return_tensors='pt')\n",
    "output = model.generate(input_ids, max_length=55, num_beams=5, early_stopping=True)\n",
    "summary = tokenizer.decode(output[0], skip_special_tokens=True)"
   ]
  },
  {
   "cell_type": "code",
   "execution_count": null,
   "metadata": {},
   "outputs": [],
   "source": [
    "summary"
   ]
  },
  {
   "cell_type": "markdown",
   "metadata": {},
   "source": [
    "# 4. Building a News and Sentiment Pipeline"
   ]
  },
  {
   "cell_type": "code",
   "execution_count": null,
   "metadata": {},
   "outputs": [],
   "source": [
    "monitored_tickers = ['GME', 'TSLA', 'BTC']"
   ]
  },
  {
   "cell_type": "markdown",
   "metadata": {},
   "source": [
    "## 4.1. Search for Stock News using Google and Yahoo Finance"
   ]
  },
  {
   "cell_type": "code",
   "execution_count": null,
   "metadata": {},
   "outputs": [],
   "source": [
    "def search_for_stock_news_urls(ticker):\n",
    "    search_url = \"https://www.google.com/search?q=yahoo+finance+{}&tbm=nws\".format(ticker)\n",
    "    r = requests.get(search_url)\n",
    "    soup = BeautifulSoup(r.text, 'html.parser')\n",
    "    atags = soup.find_all('a')\n",
    "    hrefs = [link['href'] for link in atags]\n",
    "    return hrefs "
   ]
  },
  {
   "cell_type": "code",
   "execution_count": null,
   "metadata": {
    "collapsed": true
   },
   "outputs": [],
   "source": [
    "raw_urls = {ticker:search_for_stock_news_urls(ticker) for ticker in monitored_tickers}\n",
    "raw_urls"
   ]
  },
  {
   "cell_type": "code",
   "execution_count": null,
   "metadata": {
    "collapsed": true
   },
   "outputs": [],
   "source": [
    "raw_urls['GME']"
   ]
  },
  {
   "cell_type": "markdown",
   "metadata": {},
   "source": [
    "## 4.2. Strip out unwanted URLs"
   ]
  },
  {
   "cell_type": "code",
   "execution_count": null,
   "metadata": {},
   "outputs": [],
   "source": [
    "import re"
   ]
  },
  {
   "cell_type": "code",
   "execution_count": null,
   "metadata": {},
   "outputs": [],
   "source": [
    "exclude_list = ['maps', 'policies', 'preferences', 'accounts', 'support']"
   ]
  },
  {
   "cell_type": "code",
   "execution_count": null,
   "metadata": {},
   "outputs": [],
   "source": [
    "def strip_unwanted_urls(urls, exclude_list):\n",
    "    val = []\n",
    "    for url in urls: \n",
    "        if 'https://' in url and not any(exclude_word in url for exclude_word in exclude_list):\n",
    "            res = re.findall(r'(https?://\\S+)', url)[0].split('&')[0]\n",
    "            val.append(res)\n",
    "    return list(set(val))"
   ]
  },
  {
   "cell_type": "code",
   "execution_count": null,
   "metadata": {
    "collapsed": true
   },
   "outputs": [],
   "source": [
    "cleaned_urls = {ticker:strip_unwanted_urls(raw_urls[ticker], exclude_list) for ticker in monitored_tickers}\n",
    "cleaned_urls"
   ]
  },
  {
   "cell_type": "markdown",
   "metadata": {},
   "source": [
    "## 4.3. Search and Scrape Cleaned URLs"
   ]
  },
  {
   "cell_type": "code",
   "execution_count": null,
   "metadata": {},
   "outputs": [],
   "source": [
    "def scrape_and_process(URLs):\n",
    "    ARTICLES = []\n",
    "    for url in URLs: \n",
    "        r = requests.get(url)\n",
    "        soup = BeautifulSoup(r.text, 'html.parser')\n",
    "        paragraphs = soup.find_all('p')\n",
    "        text = [paragraph.text for paragraph in paragraphs]\n",
    "        words = ' '.join(text).split(' ')[:350]\n",
    "        ARTICLE = ' '.join(words)\n",
    "        ARTICLES.append(ARTICLE)\n",
    "    return ARTICLES"
   ]
  },
  {
   "cell_type": "code",
   "execution_count": null,
   "metadata": {},
   "outputs": [],
   "source": [
    "articles = {ticker:scrape_and_process(cleaned_urls[ticker]) for ticker in monitored_tickers}\n",
    "articles"
   ]
  },
  {
   "cell_type": "code",
   "execution_count": null,
   "metadata": {},
   "outputs": [],
   "source": [
    "articles['TSLA'][2]"
   ]
  },
  {
   "cell_type": "markdown",
   "metadata": {},
   "source": [
    "## 4.4. Summarise all Articles"
   ]
  },
  {
   "cell_type": "code",
   "execution_count": null,
   "metadata": {},
   "outputs": [],
   "source": [
    "def summarize(articles):\n",
    "    summaries = []\n",
    "    for article in articles:\n",
    "        input_ids = tokenizer.encode(article, return_tensors='pt')\n",
    "        output = model.generate(input_ids, max_length=55, num_beams=5, early_stopping=True)\n",
    "        summary = tokenizer.decode(output[0], skip_special_tokens=True)\n",
    "        summaries.append(summary)\n",
    "    return summaries"
   ]
  },
  {
   "cell_type": "code",
   "execution_count": null,
   "metadata": {
    "collapsed": true
   },
   "outputs": [],
   "source": [
    "summaries = {ticker:summarize(articles[ticker]) for ticker in monitored_tickers}\n",
    "summaries"
   ]
  },
  {
   "cell_type": "code",
   "execution_count": null,
   "metadata": {},
   "outputs": [],
   "source": [
    "summaries['BTC']"
   ]
  },
  {
   "cell_type": "markdown",
   "metadata": {},
   "source": [
    "# 5. Adding Sentiment Analysis"
   ]
  },
  {
   "cell_type": "code",
   "execution_count": null,
   "metadata": {},
   "outputs": [],
   "source": [
    "from transformers import pipeline\n",
    "sentiment = pipeline('sentiment-analysis')"
   ]
  },
  {
   "cell_type": "code",
   "execution_count": null,
   "metadata": {},
   "outputs": [],
   "source": [
    "sentiment(summaries['BTC'])"
   ]
  },
  {
   "cell_type": "code",
   "execution_count": null,
   "metadata": {
    "collapsed": true
   },
   "outputs": [],
   "source": [
    "scores = {ticker:sentiment(summaries[ticker]) for ticker in monitored_tickers}\n",
    "scores"
   ]
  },
  {
   "cell_type": "code",
   "execution_count": null,
   "metadata": {},
   "outputs": [],
   "source": [
    "print(summaries['GME'][3], scores['GME'][3]['label'], scores['GME'][3]['score'])"
   ]
  },
  {
   "cell_type": "code",
   "execution_count": null,
   "metadata": {},
   "outputs": [],
   "source": [
    "scores['BTC'][0]['score']"
   ]
  },
  {
   "cell_type": "markdown",
   "metadata": {},
   "source": [
    "# 6. Exporting Results to CSV"
   ]
  },
  {
   "cell_type": "code",
   "execution_count": null,
   "metadata": {
    "collapsed": true
   },
   "outputs": [],
   "source": [
    "summaries"
   ]
  },
  {
   "cell_type": "code",
   "execution_count": null,
   "metadata": {
    "collapsed": true
   },
   "outputs": [],
   "source": [
    "scores"
   ]
  },
  {
   "cell_type": "code",
   "execution_count": null,
   "metadata": {
    "collapsed": true
   },
   "outputs": [],
   "source": [
    "cleaned_urls"
   ]
  },
  {
   "cell_type": "code",
   "execution_count": null,
   "metadata": {},
   "outputs": [],
   "source": [
    "range(len(summaries['GME']))"
   ]
  },
  {
   "cell_type": "code",
   "execution_count": null,
   "metadata": {},
   "outputs": [],
   "source": [
    "summaries['GME'][3]"
   ]
  },
  {
   "cell_type": "code",
   "execution_count": null,
   "metadata": {},
   "outputs": [],
   "source": [
    "def create_output_array(summaries, scores, urls):\n",
    "    output = []\n",
    "    for ticker in monitored_tickers:\n",
    "        for counter in range(len(summaries[ticker])):\n",
    "            output_this = [\n",
    "                ticker,\n",
    "                summaries[ticker][counter],\n",
    "                scores[ticker][counter]['label'],\n",
    "                scores[ticker][counter]['score'],\n",
    "                urls[ticker][counter]\n",
    "            ]\n",
    "            output.append(output_this)\n",
    "    return output"
   ]
  },
  {
   "cell_type": "code",
   "execution_count": null,
   "metadata": {
    "collapsed": true
   },
   "outputs": [],
   "source": [
    "final_output = create_output_array(summaries, scores, cleaned_urls)\n",
    "final_output"
   ]
  },
  {
   "cell_type": "code",
   "execution_count": null,
   "metadata": {},
   "outputs": [],
   "source": [
    "final_output.insert(0, ['Ticker', 'Summary', 'Label', 'Confidence', 'URL'])"
   ]
  },
  {
   "cell_type": "code",
   "execution_count": null,
   "metadata": {
    "collapsed": true
   },
   "outputs": [],
   "source": [
    "final_output"
   ]
  },
  {
   "cell_type": "code",
   "execution_count": null,
   "metadata": {},
   "outputs": [],
   "source": [
    "import csv\n",
    "with open('assetsummaries.csv', mode='w', newline='') as f:\n",
    "    csv_writer = csv.writer(f, delimiter=',', quotechar='\"', quoting=csv.QUOTE_MINIMAL)\n",
    "    csv_writer.writerows(final_output)"
   ]
  },
  {
   "cell_type": "code",
   "execution_count": null,
   "metadata": {},
   "outputs": [],
   "source": []
  },
  {
   "cell_type": "code",
   "execution_count": null,
   "metadata": {},
   "outputs": [],
   "source": []
  },
  {
   "cell_type": "code",
   "execution_count": null,
   "metadata": {},
   "outputs": [],
   "source": []
  }
 ],
 "metadata": {
  "kernelspec": {
   "display_name": "Python 3 (ipykernel)",
   "language": "python",
   "name": "python3"
  },
  "language_info": {
   "codemirror_mode": {
    "name": "ipython",
    "version": 3
   },
   "file_extension": ".py",
   "mimetype": "text/x-python",
   "name": "python",
   "nbconvert_exporter": "python",
   "pygments_lexer": "ipython3",
   "version": "3.9.12"
  }
 },
 "nbformat": 4,
 "nbformat_minor": 2
}