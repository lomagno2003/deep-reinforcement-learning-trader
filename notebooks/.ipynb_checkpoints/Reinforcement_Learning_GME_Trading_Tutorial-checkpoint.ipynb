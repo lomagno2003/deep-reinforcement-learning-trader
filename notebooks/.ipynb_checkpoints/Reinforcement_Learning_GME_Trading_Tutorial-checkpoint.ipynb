{
 "cells": [
  {
   "cell_type": "markdown",
   "metadata": {
    "id": "b5RSgvs9FIhI"
   },
   "source": [
    "# 0. Install and Import dependencies"
   ]
  },
  {
   "cell_type": "code",
   "execution_count": null,
   "metadata": {
    "colab": {
     "base_uri": "https://localhost:8080/"
    },
    "collapsed": true,
    "id": "jMbubro1FIhL",
    "outputId": "b029c93f-020c-49f8-a303-323673bed7a9",
    "pycharm": {
     "is_executing": true
    }
   },
   "outputs": [],
   "source": [
    "!pip install https://storage.googleapis.com/tensorflow/mac/cpu/tensorflow-1.5.0-py3-none-any.whl\n",
    "!pip install stable-baselines gym-anytrading gym yfinance"
   ]
  },
  {
   "cell_type": "code",
   "execution_count": 1,
   "metadata": {
    "colab": {
     "base_uri": "https://localhost:8080/"
    },
    "id": "FkEfnCDuFIhN",
    "outputId": "2c238f45-9c07-4bd0-d610-77742dfbaa75"
   },
   "outputs": [
    {
     "name": "stderr",
     "output_type": "stream",
     "text": [
      "/Users/lomagnoc/Documents/Backup from Old Mac/Projects/deep-reinforcement-learning-trader/venv/lib/python3.9/site-packages/tensorflow/python/pywrap_tensorflow_internal.py:15: DeprecationWarning: the imp module is deprecated in favour of importlib; see the module's documentation for alternative uses\n",
      "  import imp\n",
      "/Users/lomagnoc/Documents/Backup from Old Mac/Projects/deep-reinforcement-learning-trader/venv/lib/python3.9/site-packages/tensorflow/python/framework/dtypes.py:493: FutureWarning: Passing (type, 1) or '1type' as a synonym of type is deprecated; in a future version of numpy, it will be understood as (type, (1,)) / '(1,)type'.\n",
      "  _np_qint8 = np.dtype([(\"qint8\", np.int8, 1)])\n",
      "/Users/lomagnoc/Documents/Backup from Old Mac/Projects/deep-reinforcement-learning-trader/venv/lib/python3.9/site-packages/tensorflow/python/framework/dtypes.py:494: FutureWarning: Passing (type, 1) or '1type' as a synonym of type is deprecated; in a future version of numpy, it will be understood as (type, (1,)) / '(1,)type'.\n",
      "  _np_quint8 = np.dtype([(\"quint8\", np.uint8, 1)])\n",
      "/Users/lomagnoc/Documents/Backup from Old Mac/Projects/deep-reinforcement-learning-trader/venv/lib/python3.9/site-packages/tensorflow/python/framework/dtypes.py:495: FutureWarning: Passing (type, 1) or '1type' as a synonym of type is deprecated; in a future version of numpy, it will be understood as (type, (1,)) / '(1,)type'.\n",
      "  _np_qint16 = np.dtype([(\"qint16\", np.int16, 1)])\n",
      "/Users/lomagnoc/Documents/Backup from Old Mac/Projects/deep-reinforcement-learning-trader/venv/lib/python3.9/site-packages/tensorflow/python/framework/dtypes.py:496: FutureWarning: Passing (type, 1) or '1type' as a synonym of type is deprecated; in a future version of numpy, it will be understood as (type, (1,)) / '(1,)type'.\n",
      "  _np_quint16 = np.dtype([(\"quint16\", np.uint16, 1)])\n",
      "/Users/lomagnoc/Documents/Backup from Old Mac/Projects/deep-reinforcement-learning-trader/venv/lib/python3.9/site-packages/tensorflow/python/framework/dtypes.py:497: FutureWarning: Passing (type, 1) or '1type' as a synonym of type is deprecated; in a future version of numpy, it will be understood as (type, (1,)) / '(1,)type'.\n",
      "  _np_qint32 = np.dtype([(\"qint32\", np.int32, 1)])\n",
      "/Users/lomagnoc/Documents/Backup from Old Mac/Projects/deep-reinforcement-learning-trader/venv/lib/python3.9/site-packages/tensorflow/python/framework/dtypes.py:502: FutureWarning: Passing (type, 1) or '1type' as a synonym of type is deprecated; in a future version of numpy, it will be understood as (type, (1,)) / '(1,)type'.\n",
      "  np_resource = np.dtype([(\"resource\", np.ubyte, 1)])\n",
      "/Users/lomagnoc/Documents/Backup from Old Mac/Projects/deep-reinforcement-learning-trader/venv/lib/python3.9/site-packages/tensorflow/python/framework/dtypes.py:519: DeprecationWarning: `np.object` is a deprecated alias for the builtin `object`. To silence this warning, use `object` by itself. Doing this will not modify any behavior and is safe. \n",
      "Deprecated in NumPy 1.20; for more details and guidance: https://numpy.org/devdocs/release/1.20.0-notes.html#deprecations\n",
      "  (np.object, string),\n",
      "/Users/lomagnoc/Documents/Backup from Old Mac/Projects/deep-reinforcement-learning-trader/venv/lib/python3.9/site-packages/tensorflow/python/framework/dtypes.py:520: DeprecationWarning: `np.bool` is a deprecated alias for the builtin `bool`. To silence this warning, use `bool` by itself. Doing this will not modify any behavior and is safe. If you specifically wanted the numpy scalar type, use `np.bool_` here.\n",
      "Deprecated in NumPy 1.20; for more details and guidance: https://numpy.org/devdocs/release/1.20.0-notes.html#deprecations\n",
      "  (np.bool, bool),\n",
      "/Users/lomagnoc/Documents/Backup from Old Mac/Projects/deep-reinforcement-learning-trader/venv/lib/python3.9/site-packages/tensorflow/python/framework/ops.py:858: DeprecationWarning: builtin type EagerTensor has no __module__ attribute\n",
      "  EagerTensor = c_api.TFE_Py_InitEagerTensor(_EagerTensorBase)\n",
      "<frozen importlib._bootstrap>:228: RuntimeWarning: compiletime version 3.6 of module 'tensorflow.python.framework.fast_tensor_util' does not match runtime version 3.9\n",
      "<frozen importlib._bootstrap>:228: RuntimeWarning: builtins.type size changed, may indicate binary incompatibility. Expected 880, got 864\n",
      "/Users/lomagnoc/Documents/Backup from Old Mac/Projects/deep-reinforcement-learning-trader/venv/lib/python3.9/site-packages/tensorflow/python/framework/tensor_util.py:82: DeprecationWarning: `np.object` is a deprecated alias for the builtin `object`. To silence this warning, use `object` by itself. Doing this will not modify any behavior and is safe. \n",
      "Deprecated in NumPy 1.20; for more details and guidance: https://numpy.org/devdocs/release/1.20.0-notes.html#deprecations\n",
      "  np.object: fast_tensor_util.AppendObjectArrayToTensorProto,\n",
      "/Users/lomagnoc/Documents/Backup from Old Mac/Projects/deep-reinforcement-learning-trader/venv/lib/python3.9/site-packages/tensorflow/python/framework/tensor_util.py:83: DeprecationWarning: `np.bool` is a deprecated alias for the builtin `bool`. To silence this warning, use `bool` by itself. Doing this will not modify any behavior and is safe. If you specifically wanted the numpy scalar type, use `np.bool_` here.\n",
      "Deprecated in NumPy 1.20; for more details and guidance: https://numpy.org/devdocs/release/1.20.0-notes.html#deprecations\n",
      "  np.bool: fast_tensor_util.AppendBoolArrayToTensorProto,\n",
      "/Users/lomagnoc/Documents/Backup from Old Mac/Projects/deep-reinforcement-learning-trader/venv/lib/python3.9/site-packages/tensorflow/python/util/tf_inspect.py:45: DeprecationWarning: inspect.getargspec() is deprecated since Python 3.0, use inspect.signature() or inspect.getfullargspec()\n",
      "  if d.decorator_argspec is not None), _inspect.getargspec(target))\n",
      "/Users/lomagnoc/Documents/Backup from Old Mac/Projects/deep-reinforcement-learning-trader/venv/lib/python3.9/site-packages/tensorflow/python/util/nest.py:680: DeprecationWarning: Using or importing the ABCs from 'collections' instead of from 'collections.abc' is deprecated since Python 3.3, and in 3.10 it will stop working\n",
      "  _pywrap_tensorflow.RegisterSequenceClass(_collections.Sequence)\n",
      "/Users/lomagnoc/Documents/Backup from Old Mac/Projects/deep-reinforcement-learning-trader/venv/lib/python3.9/site-packages/tensorflow/python/keras/_impl/keras/callbacks.py:22: DeprecationWarning: Using or importing the ABCs from 'collections' instead of from 'collections.abc' is deprecated since Python 3.3, and in 3.10 it will stop working\n",
      "  from collections import Iterable\n",
      "/Users/lomagnoc/Documents/Backup from Old Mac/Projects/deep-reinforcement-learning-trader/venv/lib/python3.9/site-packages/tensorflow/python/util/tf_inspect.py:45: DeprecationWarning: inspect.getargspec() is deprecated since Python 3.0, use inspect.signature() or inspect.getfullargspec()\n",
      "  if d.decorator_argspec is not None), _inspect.getargspec(target))\n",
      "/Users/lomagnoc/Documents/Backup from Old Mac/Projects/deep-reinforcement-learning-trader/venv/lib/python3.9/site-packages/tensorflow/contrib/bayesflow/python/ops/halton_sequence_impl.py:251: DeprecationWarning: `np.bool` is a deprecated alias for the builtin `bool`. To silence this warning, use `bool` by itself. Doing this will not modify any behavior and is safe. If you specifically wanted the numpy scalar type, use `np.bool_` here.\n",
      "Deprecated in NumPy 1.20; for more details and guidance: https://numpy.org/devdocs/release/1.20.0-notes.html#deprecations\n",
      "  sieve = np.ones(n // 3 + (n % 6 == 2), dtype=np.bool)\n",
      "/Users/lomagnoc/Documents/Backup from Old Mac/Projects/deep-reinforcement-learning-trader/venv/lib/python3.9/site-packages/tensorflow/contrib/learn/python/learn/learn_io/generator_io.py:21: DeprecationWarning: Using or importing the ABCs from 'collections' instead of from 'collections.abc' is deprecated since Python 3.3, and in 3.10 it will stop working\n",
      "  from collections import Container\n",
      "/Users/lomagnoc/Documents/Backup from Old Mac/Projects/deep-reinforcement-learning-trader/venv/lib/python3.9/site-packages/tensorflow/contrib/labeled_tensor/python/ops/core.py:198: DeprecationWarning: Using or importing the ABCs from 'collections' instead of from 'collections.abc' is deprecated since Python 3.3, and in 3.10 it will stop working\n",
      "  class Axes(collections.Mapping):\n"
     ]
    },
    {
     "name": "stderr",
     "output_type": "stream",
     "text": [
      "/Users/lomagnoc/Documents/Backup from Old Mac/Projects/deep-reinforcement-learning-trader/venv/lib/python3.9/site-packages/tensorflow/contrib/tensorboard/plugins/trace/trace.py:22: DeprecationWarning: The parser module is deprecated and will be removed in future versions of Python\n",
      "  import parser\n",
      "/Users/lomagnoc/Documents/Backup from Old Mac/Projects/deep-reinforcement-learning-trader/venv/lib/python3.9/site-packages/stable_baselines/__init__.py:32: UserWarning: stable-baselines is in maintenance mode, please use [Stable-Baselines3 (SB3)](https://github.com/DLR-RM/stable-baselines3) for an up-to-date version. You can find a [migration guide](https://stable-baselines3.readthedocs.io/en/master/guide/migration.html) in SB3 documentation.\n",
      "  warnings.warn(\n"
     ]
    }
   ],
   "source": [
    "# Gym stuff\n",
    "import gym\n",
    "import gym_anytrading\n",
    "\n",
    "# Stable baselines - rl stuff\n",
    "from stable_baselines.common.vec_env import DummyVecEnv\n",
    "from stable_baselines import A2C\n",
    "\n",
    "# Processing libraries\n",
    "import numpy as np\n",
    "import pandas as pd\n",
    "from matplotlib import pyplot as plt"
   ]
  },
  {
   "cell_type": "markdown",
   "metadata": {
    "id": "_3_-mm4SFIhO"
   },
   "source": [
    "# 1. Bring in Marketwatch GME Data \n",
    "https://www.marketwatch.com/investing/stock/gme/download-data?startDate=11/1/2019&endDate=03/12/2021"
   ]
  },
  {
   "cell_type": "code",
   "execution_count": 2,
   "metadata": {
    "id": "wpH5tkgLJLzb"
   },
   "outputs": [],
   "source": [
    "import yfinance as yf\n",
    "\n",
    "msft = yf.Ticker(\"MSFT\")\n",
    "hist = msft.history(period=\"max\")"
   ]
  },
  {
   "cell_type": "code",
   "execution_count": 3,
   "metadata": {
    "id": "h9_CF6_pFIhO"
   },
   "outputs": [],
   "source": [
    "df = hist"
   ]
  },
  {
   "cell_type": "code",
   "execution_count": 4,
   "metadata": {
    "colab": {
     "base_uri": "https://localhost:8080/",
     "height": 237
    },
    "id": "dCovh5ajFIhO",
    "outputId": "197eca69-8c81-4684-8b68-ac09eb63b92f"
   },
   "outputs": [
    {
     "data": {
      "text/html": [
       "<div>\n",
       "<style scoped>\n",
       "    .dataframe tbody tr th:only-of-type {\n",
       "        vertical-align: middle;\n",
       "    }\n",
       "\n",
       "    .dataframe tbody tr th {\n",
       "        vertical-align: top;\n",
       "    }\n",
       "\n",
       "    .dataframe thead th {\n",
       "        text-align: right;\n",
       "    }\n",
       "</style>\n",
       "<table border=\"1\" class=\"dataframe\">\n",
       "  <thead>\n",
       "    <tr style=\"text-align: right;\">\n",
       "      <th></th>\n",
       "      <th>Open</th>\n",
       "      <th>High</th>\n",
       "      <th>Low</th>\n",
       "      <th>Close</th>\n",
       "      <th>Volume</th>\n",
       "      <th>Dividends</th>\n",
       "      <th>Stock Splits</th>\n",
       "    </tr>\n",
       "    <tr>\n",
       "      <th>Date</th>\n",
       "      <th></th>\n",
       "      <th></th>\n",
       "      <th></th>\n",
       "      <th></th>\n",
       "      <th></th>\n",
       "      <th></th>\n",
       "      <th></th>\n",
       "    </tr>\n",
       "  </thead>\n",
       "  <tbody>\n",
       "    <tr>\n",
       "      <th>1986-03-13</th>\n",
       "      <td>0.055949</td>\n",
       "      <td>0.064177</td>\n",
       "      <td>0.055949</td>\n",
       "      <td>0.061434</td>\n",
       "      <td>1031788800</td>\n",
       "      <td>0.0</td>\n",
       "      <td>0.0</td>\n",
       "    </tr>\n",
       "    <tr>\n",
       "      <th>1986-03-14</th>\n",
       "      <td>0.061434</td>\n",
       "      <td>0.064725</td>\n",
       "      <td>0.061434</td>\n",
       "      <td>0.063628</td>\n",
       "      <td>308160000</td>\n",
       "      <td>0.0</td>\n",
       "      <td>0.0</td>\n",
       "    </tr>\n",
       "    <tr>\n",
       "      <th>1986-03-17</th>\n",
       "      <td>0.063628</td>\n",
       "      <td>0.065274</td>\n",
       "      <td>0.063628</td>\n",
       "      <td>0.064725</td>\n",
       "      <td>133171200</td>\n",
       "      <td>0.0</td>\n",
       "      <td>0.0</td>\n",
       "    </tr>\n",
       "    <tr>\n",
       "      <th>1986-03-18</th>\n",
       "      <td>0.064725</td>\n",
       "      <td>0.065274</td>\n",
       "      <td>0.062531</td>\n",
       "      <td>0.063079</td>\n",
       "      <td>67766400</td>\n",
       "      <td>0.0</td>\n",
       "      <td>0.0</td>\n",
       "    </tr>\n",
       "    <tr>\n",
       "      <th>1986-03-19</th>\n",
       "      <td>0.063079</td>\n",
       "      <td>0.063628</td>\n",
       "      <td>0.061434</td>\n",
       "      <td>0.061982</td>\n",
       "      <td>47894400</td>\n",
       "      <td>0.0</td>\n",
       "      <td>0.0</td>\n",
       "    </tr>\n",
       "  </tbody>\n",
       "</table>\n",
       "</div>"
      ],
      "text/plain": [
       "                Open      High       Low     Close      Volume  Dividends  \\\n",
       "Date                                                                        \n",
       "1986-03-13  0.055949  0.064177  0.055949  0.061434  1031788800        0.0   \n",
       "1986-03-14  0.061434  0.064725  0.061434  0.063628   308160000        0.0   \n",
       "1986-03-17  0.063628  0.065274  0.063628  0.064725   133171200        0.0   \n",
       "1986-03-18  0.064725  0.065274  0.062531  0.063079    67766400        0.0   \n",
       "1986-03-19  0.063079  0.063628  0.061434  0.061982    47894400        0.0   \n",
       "\n",
       "            Stock Splits  \n",
       "Date                      \n",
       "1986-03-13           0.0  \n",
       "1986-03-14           0.0  \n",
       "1986-03-17           0.0  \n",
       "1986-03-18           0.0  \n",
       "1986-03-19           0.0  "
      ]
     },
     "execution_count": 4,
     "metadata": {},
     "output_type": "execute_result"
    }
   ],
   "source": [
    "df.head()"
   ]
  },
  {
   "cell_type": "code",
   "execution_count": 5,
   "metadata": {
    "id": "1XiqwecUFIhQ"
   },
   "outputs": [],
   "source": [
    "env = gym.make('stocks-v0', df=df, frame_bound=(5,100), window_size=5)"
   ]
  },
  {
   "cell_type": "code",
   "execution_count": 6,
   "metadata": {
    "colab": {
     "base_uri": "https://localhost:8080/"
    },
    "id": "ZlwEK5sUFIhR",
    "outputId": "ade56949-af70-4f01-c9f8-7b50e77b38bb",
    "scrolled": true
   },
   "outputs": [
    {
     "data": {
      "text/plain": [
       "array([[ 0.06143393,  0.        ],\n",
       "       [ 0.06362784,  0.00219391],\n",
       "       [ 0.06472543,  0.00109759],\n",
       "       [ 0.06307939, -0.00164603],\n",
       "       [ 0.06198241, -0.00109699],\n",
       "       [ 0.06033697, -0.00164544],\n",
       "       [ 0.05869153, -0.00164543],\n",
       "       [ 0.05704606, -0.00164547],\n",
       "       [ 0.05814303,  0.00109697],\n",
       "       [ 0.0597885 ,  0.00164547],\n",
       "       [ 0.06088543,  0.00109693],\n",
       "       [ 0.06033697, -0.00054847],\n",
       "       [ 0.0597885 , -0.00054847],\n",
       "       [ 0.06033697,  0.00054847],\n",
       "       [ 0.06088543,  0.00054847],\n",
       "       [ 0.06088543,  0.        ],\n",
       "       [ 0.0597885 , -0.00109693],\n",
       "       [ 0.06033697,  0.00054847],\n",
       "       [ 0.06143393,  0.00109696],\n",
       "       [ 0.06198241,  0.00054848],\n",
       "       [ 0.06307939,  0.00109699],\n",
       "       [ 0.06362784,  0.00054844],\n",
       "       [ 0.06362784,  0.        ],\n",
       "       [ 0.06582242,  0.00219458],\n",
       "       [ 0.06637093,  0.0005485 ],\n",
       "       [ 0.06417698, -0.00219394],\n",
       "       [ 0.06417698,  0.        ],\n",
       "       [ 0.06307939, -0.00109759],\n",
       "       [ 0.06335362,  0.00027423],\n",
       "       [ 0.0696618 ,  0.00630818],\n",
       "       [ 0.07405032,  0.00438852],\n",
       "       [ 0.0745988 ,  0.00054847],\n",
       "       [ 0.07240424, -0.00219456],\n",
       "       [ 0.07075877, -0.00164546],\n",
       "       [ 0.0696618 , -0.00109697],\n",
       "       [ 0.0696618 ,  0.        ],\n",
       "       [ 0.06911333, -0.00054847],\n",
       "       [ 0.0696618 ,  0.00054847],\n",
       "       [ 0.0696618 ,  0.        ],\n",
       "       [ 0.07021029,  0.00054848],\n",
       "       [ 0.0696618 , -0.00054848],\n",
       "       [ 0.07021029,  0.00054848],\n",
       "       [ 0.07075877,  0.00054849],\n",
       "       [ 0.07021029, -0.00054849],\n",
       "       [ 0.07021029,  0.        ],\n",
       "       [ 0.07075877,  0.00054849],\n",
       "       [ 0.0696618 , -0.00109697],\n",
       "       [ 0.06911333, -0.00054847],\n",
       "       [ 0.06801631, -0.00109702],\n",
       "       [ 0.06801631,  0.        ],\n",
       "       [ 0.06801631,  0.        ],\n",
       "       [ 0.07021029,  0.00219397],\n",
       "       [ 0.07240424,  0.00219395],\n",
       "       [ 0.07405032,  0.00164609],\n",
       "       [ 0.07679272,  0.0027424 ],\n",
       "       [ 0.0745988 , -0.00219393],\n",
       "       [ 0.0745988 ,  0.        ],\n",
       "       [ 0.07405032, -0.00054847],\n",
       "       [ 0.07514726,  0.00109693],\n",
       "       [ 0.07514726,  0.        ],\n",
       "       [ 0.07185575, -0.00329151],\n",
       "       [ 0.07185575,  0.        ],\n",
       "       [ 0.07185575,  0.        ],\n",
       "       [ 0.06911333, -0.00274242],\n",
       "       [ 0.06911333,  0.        ],\n",
       "       [ 0.06856485, -0.00054848],\n",
       "       [ 0.0696618 ,  0.00109696],\n",
       "       [ 0.06911333, -0.00054847],\n",
       "       [ 0.06856485, -0.00054848],\n",
       "       [ 0.06883909,  0.00027424],\n",
       "       [ 0.0696618 ,  0.00082272],\n",
       "       [ 0.06911333, -0.00054847],\n",
       "       [ 0.06801631, -0.00109702],\n",
       "       [ 0.06582242, -0.00219389],\n",
       "       [ 0.06527393, -0.00054849],\n",
       "       [ 0.06746789,  0.00219396],\n",
       "       [ 0.06746789,  0.        ],\n",
       "       [ 0.06746789,  0.        ],\n",
       "       [ 0.06856485,  0.00109696],\n",
       "       [ 0.06582242, -0.00274242],\n",
       "       [ 0.06417698, -0.00164544],\n",
       "       [ 0.06143393, -0.00274306],\n",
       "       [ 0.0597885 , -0.00164543],\n",
       "       [ 0.06143393,  0.00164543],\n",
       "       [ 0.06061121, -0.00082271],\n",
       "       [ 0.06143393,  0.00082271],\n",
       "       [ 0.06362784,  0.00219391],\n",
       "       [ 0.06472543,  0.00109759],\n",
       "       [ 0.06527393,  0.0005485 ],\n",
       "       [ 0.06527393,  0.        ],\n",
       "       [ 0.06746789,  0.00219396],\n",
       "       [ 0.06582242, -0.00164547],\n",
       "       [ 0.06801631,  0.00219389],\n",
       "       [ 0.06856485,  0.00054853],\n",
       "       [ 0.06691941, -0.00164544],\n",
       "       [ 0.06527393, -0.00164548],\n",
       "       [ 0.06307939, -0.00219454],\n",
       "       [ 0.06253088, -0.00054851],\n",
       "       [ 0.06198241, -0.00054847],\n",
       "       [ 0.06198241,  0.        ]])"
      ]
     },
     "execution_count": 6,
     "metadata": {},
     "output_type": "execute_result"
    }
   ],
   "source": [
    "env.signal_features"
   ]
  },
  {
   "cell_type": "markdown",
   "metadata": {
    "id": "r4b21UX-FIhR"
   },
   "source": [
    "# 2. Build Environment"
   ]
  },
  {
   "cell_type": "code",
   "execution_count": 7,
   "metadata": {
    "colab": {
     "base_uri": "https://localhost:8080/"
    },
    "id": "bVbnujy5FIhS",
    "outputId": "e7dc6fb8-1cca-495c-fd57-d41fdd7ceeab"
   },
   "outputs": [
    {
     "data": {
      "text/plain": [
       "Discrete(2)"
      ]
     },
     "execution_count": 7,
     "metadata": {},
     "output_type": "execute_result"
    }
   ],
   "source": [
    "env.action_space"
   ]
  },
  {
   "cell_type": "code",
   "execution_count": 8,
   "metadata": {
    "colab": {
     "base_uri": "https://localhost:8080/",
     "height": 435
    },
    "id": "Hl3u5dzvFIhS",
    "outputId": "ff814f61-f45e-4f08-f096-522011266538"
   },
   "outputs": [
    {
     "name": "stdout",
     "output_type": "stream",
     "text": [
      "info {'total_reward': -6.034970283508301e-07, 'total_profit': 0.6726088361691407, 'position': 1}\n"
     ]
    },
    {
     "data": {
      "image/png": "[encoded data removed]",
      "text/plain": [
       "<Figure size 1080x432 with 1 Axes>"
      ]
     },
     "metadata": {
      "needs_background": "light"
     },
     "output_type": "display_data"
    }
   ],
   "source": [
    "state = env.reset()\n",
    "while True: \n",
    "    action = env.action_space.sample()\n",
    "    n_state, reward, done, info = env.step(action)\n",
    "    if done: \n",
    "        print(\"info\", info)\n",
    "        break\n",
    "        \n",
    "plt.figure(figsize=(15,6))\n",
    "plt.cla()\n",
    "env.render_all()\n",
    "plt.show()"
   ]
  },
  {
   "cell_type": "markdown",
   "metadata": {
    "id": "1CNPTtayFIhS"
   },
   "source": [
    "# 3. Build Environment and Train"
   ]
  },
  {
   "cell_type": "code",
   "execution_count": 9,
   "metadata": {
    "id": "PFHB_Y4jFIhT"
   },
   "outputs": [
    {
     "name": "stderr",
     "output_type": "stream",
     "text": [
      "/Users/lomagnoc/Documents/Backup from Old Mac/Projects/deep-reinforcement-learning-trader/venv/lib/python3.9/site-packages/stable_baselines/common/vec_env/dummy_vec_env.py:32: DeprecationWarning: `np.bool` is a deprecated alias for the builtin `bool`. To silence this warning, use `bool` by itself. Doing this will not modify any behavior and is safe. If you specifically wanted the numpy scalar type, use `np.bool_` here.\n",
      "Deprecated in NumPy 1.20; for more details and guidance: https://numpy.org/devdocs/release/1.20.0-notes.html#deprecations\n",
      "  self.buf_dones = np.zeros((self.num_envs,), dtype=np.bool)\n"
     ]
    }
   ],
   "source": [
    "env_maker = lambda: gym.make('stocks-v0', df=df, frame_bound=(5,100), window_size=5)\n",
    "env = DummyVecEnv([env_maker])"
   ]
  },
  {
   "cell_type": "markdown",
   "metadata": {
    "id": "quJ-75KeFIhT"
   },
   "source": [
    "# 4. Evaluation"
   ]
  },
  {
   "cell_type": "code",
   "execution_count": 10,
   "metadata": {
    "colab": {
     "base_uri": "https://localhost:8080/"
    },
    "id": "LvZZNPpqFIhT",
    "outputId": "f848abb6-df9a-4982-8ad5-2063cd5d2328",
    "scrolled": true
   },
   "outputs": [
    {
     "ename": "AttributeError",
     "evalue": "module 'gym.logger' has no attribute 'MIN_LEVEL'",
     "output_type": "error",
     "traceback": [
      "\u001b[0;31m---------------------------------------------------------------------------\u001b[0m",
      "\u001b[0;31mAttributeError\u001b[0m                            Traceback (most recent call last)",
      "Input \u001b[0;32mIn [10]\u001b[0m, in \u001b[0;36m<cell line: 1>\u001b[0;34m()\u001b[0m\n\u001b[0;32m----> 1\u001b[0m model \u001b[38;5;241m=\u001b[39m \u001b[43mA2C\u001b[49m\u001b[43m(\u001b[49m\u001b[38;5;124;43m'\u001b[39;49m\u001b[38;5;124;43mMlpLstmPolicy\u001b[39;49m\u001b[38;5;124;43m'\u001b[39;49m\u001b[43m,\u001b[49m\u001b[43m \u001b[49m\u001b[43menv\u001b[49m\u001b[43m,\u001b[49m\u001b[43m \u001b[49m\u001b[43mverbose\u001b[49m\u001b[38;5;241;43m=\u001b[39;49m\u001b[38;5;241;43m1\u001b[39;49m\u001b[43m)\u001b[49m \n\u001b[1;32m      2\u001b[0m model\u001b[38;5;241m.\u001b[39mlearn(total_timesteps\u001b[38;5;241m=\u001b[39m\u001b[38;5;241m100000\u001b[39m)\n",
      "File \u001b[0;32m~/Documents/Backup from Old Mac/Projects/deep-reinforcement-learning-trader/venv/lib/python3.9/site-packages/stable_baselines/a2c/a2c.py:107\u001b[0m, in \u001b[0;36mA2C.__init__\u001b[0;34m(self, policy, env, gamma, n_steps, vf_coef, ent_coef, max_grad_norm, learning_rate, alpha, momentum, epsilon, lr_schedule, verbose, tensorboard_log, _init_setup_model, policy_kwargs, full_tensorboard_log, seed, n_cpu_tf_sess)\u001b[0m\n\u001b[1;32m    105\u001b[0m \u001b[38;5;66;03m# if we are loading, it is possible the environment is not known, however the obs and action space are known\u001b[39;00m\n\u001b[1;32m    106\u001b[0m \u001b[38;5;28;01mif\u001b[39;00m _init_setup_model:\n\u001b[0;32m--> 107\u001b[0m     \u001b[38;5;28;43mself\u001b[39;49m\u001b[38;5;241;43m.\u001b[39;49m\u001b[43msetup_model\u001b[49m\u001b[43m(\u001b[49m\u001b[43m)\u001b[49m\n",
      "File \u001b[0;32m~/Documents/Backup from Old Mac/Projects/deep-reinforcement-learning-trader/venv/lib/python3.9/site-packages/stable_baselines/a2c/a2c.py:119\u001b[0m, in \u001b[0;36mA2C.setup_model\u001b[0;34m(self)\u001b[0m\n\u001b[1;32m    118\u001b[0m \u001b[38;5;28;01mdef\u001b[39;00m \u001b[38;5;21msetup_model\u001b[39m(\u001b[38;5;28mself\u001b[39m):\n\u001b[0;32m--> 119\u001b[0m     \u001b[38;5;28;01mwith\u001b[39;00m SetVerbosity(\u001b[38;5;28mself\u001b[39m\u001b[38;5;241m.\u001b[39mverbose):\n\u001b[1;32m    121\u001b[0m         \u001b[38;5;28;01massert\u001b[39;00m \u001b[38;5;28missubclass\u001b[39m(\u001b[38;5;28mself\u001b[39m\u001b[38;5;241m.\u001b[39mpolicy, ActorCriticPolicy), \u001b[38;5;124m\"\u001b[39m\u001b[38;5;124mError: the input policy for the A2C model must be an \u001b[39m\u001b[38;5;124m\"\u001b[39m \\\n\u001b[1;32m    122\u001b[0m                                                             \u001b[38;5;124m\"\u001b[39m\u001b[38;5;124minstance of common.policies.ActorCriticPolicy.\u001b[39m\u001b[38;5;124m\"\u001b[39m\n\u001b[1;32m    124\u001b[0m         \u001b[38;5;28mself\u001b[39m\u001b[38;5;241m.\u001b[39mgraph \u001b[38;5;241m=\u001b[39m tf\u001b[38;5;241m.\u001b[39mGraph()\n",
      "File \u001b[0;32m~/Documents/Backup from Old Mac/Projects/deep-reinforcement-learning-trader/venv/lib/python3.9/site-packages/stable_baselines/common/base_class.py:1129\u001b[0m, in \u001b[0;36mSetVerbosity.__enter__\u001b[0;34m(self)\u001b[0m\n\u001b[1;32m   1127\u001b[0m \u001b[38;5;28mself\u001b[39m\u001b[38;5;241m.\u001b[39mtf_level \u001b[38;5;241m=\u001b[39m os\u001b[38;5;241m.\u001b[39menviron\u001b[38;5;241m.\u001b[39mget(\u001b[38;5;124m'\u001b[39m\u001b[38;5;124mTF_CPP_MIN_LOG_LEVEL\u001b[39m\u001b[38;5;124m'\u001b[39m, \u001b[38;5;124m'\u001b[39m\u001b[38;5;124m0\u001b[39m\u001b[38;5;124m'\u001b[39m)\n\u001b[1;32m   1128\u001b[0m \u001b[38;5;28mself\u001b[39m\u001b[38;5;241m.\u001b[39mlog_level \u001b[38;5;241m=\u001b[39m logger\u001b[38;5;241m.\u001b[39mget_level()\n\u001b[0;32m-> 1129\u001b[0m \u001b[38;5;28mself\u001b[39m\u001b[38;5;241m.\u001b[39mgym_level \u001b[38;5;241m=\u001b[39m \u001b[43mgym\u001b[49m\u001b[38;5;241;43m.\u001b[39;49m\u001b[43mlogger\u001b[49m\u001b[38;5;241;43m.\u001b[39;49m\u001b[43mMIN_LEVEL\u001b[49m\n\u001b[1;32m   1131\u001b[0m \u001b[38;5;28;01mif\u001b[39;00m \u001b[38;5;28mself\u001b[39m\u001b[38;5;241m.\u001b[39mverbose \u001b[38;5;241m<\u001b[39m\u001b[38;5;241m=\u001b[39m \u001b[38;5;241m1\u001b[39m:\n\u001b[1;32m   1132\u001b[0m     os\u001b[38;5;241m.\u001b[39menviron[\u001b[38;5;124m'\u001b[39m\u001b[38;5;124mTF_CPP_MIN_LOG_LEVEL\u001b[39m\u001b[38;5;124m'\u001b[39m] \u001b[38;5;241m=\u001b[39m \u001b[38;5;124m'\u001b[39m\u001b[38;5;124m3\u001b[39m\u001b[38;5;124m'\u001b[39m\n",
      "\u001b[0;31mAttributeError\u001b[0m: module 'gym.logger' has no attribute 'MIN_LEVEL'"
     ]
    }
   ],
   "source": [
    "model = A2C('MlpLstmPolicy', env, verbose=1) \n",
    "model.learn(total_timesteps=100000)"
   ]
  },
  {
   "cell_type": "code",
   "execution_count": 11,
   "metadata": {
    "colab": {
     "base_uri": "https://localhost:8080/"
    },
    "id": "RTy53FRAFIhU",
    "outputId": "132e13e9-281c-4bef-d4df-ef2c6f71ab3a"
   },
   "outputs": [
    {
     "ename": "NameError",
     "evalue": "name 'model' is not defined",
     "output_type": "error",
     "traceback": [
      "\u001b[0;31m---------------------------------------------------------------------------\u001b[0m",
      "\u001b[0;31mNameError\u001b[0m                                 Traceback (most recent call last)",
      "Input \u001b[0;32mIn [11]\u001b[0m, in \u001b[0;36m<cell line: 4>\u001b[0;34m()\u001b[0m\n\u001b[1;32m      3\u001b[0m \u001b[38;5;28;01mwhile\u001b[39;00m \u001b[38;5;28;01mTrue\u001b[39;00m: \n\u001b[1;32m      4\u001b[0m     obs \u001b[38;5;241m=\u001b[39m obs[np\u001b[38;5;241m.\u001b[39mnewaxis, \u001b[38;5;241m.\u001b[39m\u001b[38;5;241m.\u001b[39m\u001b[38;5;241m.\u001b[39m]\n\u001b[0;32m----> 5\u001b[0m     action, _states \u001b[38;5;241m=\u001b[39m \u001b[43mmodel\u001b[49m\u001b[38;5;241m.\u001b[39mpredict(obs)\n\u001b[1;32m      6\u001b[0m     obs, rewards, done, info \u001b[38;5;241m=\u001b[39m env\u001b[38;5;241m.\u001b[39mstep(action)\n\u001b[1;32m      7\u001b[0m     \u001b[38;5;28;01mif\u001b[39;00m done:\n",
      "\u001b[0;31mNameError\u001b[0m: name 'model' is not defined"
     ]
    }
   ],
   "source": [
    "env = gym.make('stocks-v0', df=df, frame_bound=(90,110), window_size=5)\n",
    "obs = env.reset()\n",
    "while True: \n",
    "    obs = obs[np.newaxis, ...]\n",
    "    action, _states = model.predict(obs)\n",
    "    obs, rewards, done, info = env.step(action)\n",
    "    if done:\n",
    "        print(\"info\", info)\n",
    "        break"
   ]
  },
  {
   "cell_type": "code",
   "execution_count": null,
   "metadata": {
    "colab": {
     "base_uri": "https://localhost:8080/",
     "height": 417
    },
    "id": "ORNLlCwOFIhU",
    "outputId": "bc05df14-44f6-4390-a237-50b311904781"
   },
   "outputs": [],
   "source": [
    "plt.figure(figsize=(15,6))\n",
    "plt.cla()\n",
    "env.render_all()\n",
    "plt.show()"
   ]
  },
  {
   "cell_type": "code",
   "execution_count": null,
   "metadata": {
    "id": "RsRZtQI6FIhU"
   },
   "outputs": [],
   "source": []
  }
 ],
 "metadata": {
  "colab": {
   "name": "Reinforcement Learning GME Trading Tutorial.ipynb",
   "provenance": []
  },
  "kernelspec": {
   "display_name": "Python 3 (ipykernel)",
   "language": "python",
   "name": "python3"
  },
  "language_info": {
   "codemirror_mode": {
    "name": "ipython",
    "version": 3
   },
   "file_extension": ".py",
   "mimetype": "text/x-python",
   "name": "python",
   "nbconvert_exporter": "python",
   "pygments_lexer": "ipython3",
   "version": "3.9.9"
  }
 },
 "nbformat": 4,
 "nbformat_minor": 1
}
